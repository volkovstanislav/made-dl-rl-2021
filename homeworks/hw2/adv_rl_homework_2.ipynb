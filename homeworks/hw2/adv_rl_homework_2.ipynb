{
 "cells": [
  {
   "cell_type": "markdown",
   "id": "72b0de55-b909-42a3-b4d1-04b7f349b3ad",
   "metadata": {},
   "source": [
    "## Загружаем библиотеки"
   ]
  },
  {
   "cell_type": "code",
   "execution_count": 1,
   "id": "b4d25846-d434-4b55-88e2-523230905125",
   "metadata": {},
   "outputs": [],
   "source": [
    "import sys\n",
    "import random\n",
    "import warnings\n",
    "import numpy as np\n",
    "import pandas as pd\n",
    "import seaborn as sns\n",
    "import TicTacToe as ttt\n",
    "\n",
    "import copy\n",
    "import torch\n",
    "import torch.nn as nn\n",
    "import torch.optim as optim\n",
    "import torch.nn.functional as F\n",
    "import torchvision.transforms as T\n",
    "\n",
    "from tqdm import tqdm\n",
    "from torch.autograd import Variable\n",
    "from torch.utils.data import Dataset\n",
    "\n",
    "import matplotlib.pyplot as plt\n",
    "warnings.filterwarnings(\"ignore\")\n",
    "sns.set_theme(style=\"darkgrid\")"
   ]
  },
  {
   "cell_type": "markdown",
   "id": "cfbf3324-f6cd-47df-ae8f-7650f79a6b49",
   "metadata": {},
   "source": [
    "## Вспомогательные функции и переменные"
   ]
  },
  {
   "cell_type": "code",
   "execution_count": 2,
   "id": "317a2008-37c6-4d8a-ad3d-5cdb2b22913c",
   "metadata": {},
   "outputs": [],
   "source": [
    "def replace_state(state):\n",
    "    \"\"\"\n",
    "    Вспомогательная функция для\n",
    "    инвертирования текущенго игрового состояния\n",
    "    для второго игрока для использования одних функция \n",
    "    для обучения и оценки качества\n",
    "    \"\"\"\n",
    "    res = \"\"\n",
    "    for s in state:\n",
    "        res += str(2 - int(s))\n",
    "    return res"
   ]
  },
  {
   "cell_type": "markdown",
   "id": "0122fd0e-d26d-4b96-b6db-4833bf5b2468",
   "metadata": {},
   "source": [
    "## Часть первая: крестики-нолики при помощи Q-обучения\n",
    "В коде, прилагающемся к последней лекции про обучение с подкреплением, реализован Environment для крестиков-ноликов, в котором можно при инициализации указывать разные размеры доски и условия победы, а также функции для рисования, в том числе с указанием оценки различных действий. С этим окружением все задания и связаны."
   ]
  },
  {
   "cell_type": "markdown",
   "id": "5e294267-c2d4-4119-8e7e-cc4c6b59f062",
   "metadata": {},
   "source": [
    "Протестируем окружение рандомной тестовой игрой <br />\n",
    "Попробуем простые движения для понимания работы окружения <br />\n",
    "и возвращаемые значения методов и переменных окружения"
   ]
  },
  {
   "cell_type": "code",
   "execution_count": 3,
   "id": "ec47f047-de4a-453b-aae7-03bbd8e43b2b",
   "metadata": {},
   "outputs": [
    {
     "name": "stdout",
     "output_type": "stream",
     "text": [
      "-------------\n",
      "|   |   |   | \n",
      "-------------\n",
      "|   |   |   | \n",
      "-------------\n",
      "|   |   |   | \n",
      "-------------\n"
     ]
    },
    {
     "data": {
      "text/plain": [
       "(None,\n",
       " None,\n",
       " array([[0, 0],\n",
       "        [0, 1],\n",
       "        [0, 2],\n",
       "        [1, 0],\n",
       "        [1, 1],\n",
       "        [1, 2],\n",
       "        [2, 0],\n",
       "        [2, 1],\n",
       "        [2, 2]]),\n",
       " False,\n",
       " '111111111')"
      ]
     },
     "execution_count": 3,
     "metadata": {},
     "output_type": "execute_result"
    }
   ],
   "source": [
    "# создаем окружения\n",
    "env_33 = ttt.TicTacToe(n_rows=3, n_cols=3, n_win=3)\n",
    "env_33.printBoard(), env_33.isTerminal(), env_33.getEmptySpaces(), env_33.gameOver, env_33.getHash()"
   ]
  },
  {
   "cell_type": "code",
   "execution_count": 4,
   "id": "866d3f70-ef64-4243-9b26-efac0cb7c32f",
   "metadata": {},
   "outputs": [
    {
     "name": "stdout",
     "output_type": "stream",
     "text": [
      "-------------\n",
      "| x |   |   | \n",
      "-------------\n",
      "|   |   |   | \n",
      "-------------\n",
      "|   |   |   | \n",
      "-------------\n"
     ]
    },
    {
     "data": {
      "text/plain": [
       "(None,\n",
       " None,\n",
       " array([[0, 1],\n",
       "        [0, 2],\n",
       "        [1, 0],\n",
       "        [1, 1],\n",
       "        [1, 2],\n",
       "        [2, 0],\n",
       "        [2, 1],\n",
       "        [2, 2]]),\n",
       " False,\n",
       " '211111111')"
      ]
     },
     "execution_count": 4,
     "metadata": {},
     "output_type": "execute_result"
    }
   ],
   "source": [
    "action = [0, 0]\n",
    "env_33.step(action);\n",
    "env_33.printBoard(), env_33.isTerminal(), env_33.getEmptySpaces(), env_33.gameOver, env_33.getHash()"
   ]
  },
  {
   "cell_type": "code",
   "execution_count": 5,
   "id": "a89ce77f-ba57-4a00-9376-ad744c3ea043",
   "metadata": {},
   "outputs": [
    {
     "name": "stdout",
     "output_type": "stream",
     "text": [
      "-------------\n",
      "| x |   |   | \n",
      "-------------\n",
      "|   |   |   | \n",
      "-------------\n",
      "|   |   |   | \n",
      "-------------\n"
     ]
    },
    {
     "data": {
      "text/plain": [
       "(None,\n",
       " None,\n",
       " array([[0, 1],\n",
       "        [0, 2],\n",
       "        [1, 0],\n",
       "        [1, 1],\n",
       "        [1, 2],\n",
       "        [2, 0],\n",
       "        [2, 1],\n",
       "        [2, 2]]),\n",
       " False,\n",
       " '211111111')"
      ]
     },
     "execution_count": 5,
     "metadata": {},
     "output_type": "execute_result"
    }
   ],
   "source": [
    "action = [0, 0]\n",
    "env_33.step(action);\n",
    "env_33.printBoard(), env_33.isTerminal(), env_33.getEmptySpaces(), env_33.gameOver, env_33.getHash()"
   ]
  },
  {
   "cell_type": "code",
   "execution_count": 6,
   "id": "338a353f-0e44-429a-bc5c-e87272713f2d",
   "metadata": {},
   "outputs": [
    {
     "name": "stdout",
     "output_type": "stream",
     "text": [
      "-------------\n",
      "| x | o |   | \n",
      "-------------\n",
      "|   |   |   | \n",
      "-------------\n",
      "|   |   |   | \n",
      "-------------\n"
     ]
    },
    {
     "data": {
      "text/plain": [
       "(None,\n",
       " None,\n",
       " array([[0, 2],\n",
       "        [1, 0],\n",
       "        [1, 1],\n",
       "        [1, 2],\n",
       "        [2, 0],\n",
       "        [2, 1],\n",
       "        [2, 2]]),\n",
       " False,\n",
       " '201111111')"
      ]
     },
     "execution_count": 6,
     "metadata": {},
     "output_type": "execute_result"
    }
   ],
   "source": [
    "action = [0, 1]\n",
    "env_33.step(action);\n",
    "env_33.printBoard(), env_33.isTerminal(), env_33.getEmptySpaces(), env_33.gameOver, env_33.getHash()"
   ]
  },
  {
   "cell_type": "code",
   "execution_count": 7,
   "id": "54d0bac8-a200-4e5a-b41e-50a5d4c18ca0",
   "metadata": {},
   "outputs": [
    {
     "name": "stdout",
     "output_type": "stream",
     "text": [
      "-------------\n",
      "| x | o |   | \n",
      "-------------\n",
      "|   | x |   | \n",
      "-------------\n",
      "|   |   |   | \n",
      "-------------\n"
     ]
    },
    {
     "data": {
      "text/plain": [
       "(None,\n",
       " None,\n",
       " array([[0, 2],\n",
       "        [1, 0],\n",
       "        [1, 2],\n",
       "        [2, 0],\n",
       "        [2, 1],\n",
       "        [2, 2]]),\n",
       " False,\n",
       " '201121111')"
      ]
     },
     "execution_count": 7,
     "metadata": {},
     "output_type": "execute_result"
    }
   ],
   "source": [
    "action = [1, 1]\n",
    "env_33.step(action);\n",
    "env_33.printBoard(), env_33.isTerminal(), env_33.getEmptySpaces(), env_33.gameOver, env_33.getHash()"
   ]
  },
  {
   "cell_type": "code",
   "execution_count": 8,
   "id": "bf0e6530-c188-41be-93a3-5a9958082241",
   "metadata": {},
   "outputs": [
    {
     "name": "stdout",
     "output_type": "stream",
     "text": [
      "-------------\n",
      "| x | o |   | \n",
      "-------------\n",
      "|   | x |   | \n",
      "-------------\n",
      "|   | o |   | \n",
      "-------------\n"
     ]
    },
    {
     "data": {
      "text/plain": [
       "(None,\n",
       " None,\n",
       " array([[0, 2],\n",
       "        [1, 0],\n",
       "        [1, 2],\n",
       "        [2, 0],\n",
       "        [2, 2]]),\n",
       " False,\n",
       " '201121101')"
      ]
     },
     "execution_count": 8,
     "metadata": {},
     "output_type": "execute_result"
    }
   ],
   "source": [
    "action = [2, 1]\n",
    "env_33.step(action);\n",
    "env_33.printBoard(), env_33.isTerminal(), env_33.getEmptySpaces(), env_33.gameOver, env_33.getHash()"
   ]
  },
  {
   "cell_type": "code",
   "execution_count": 9,
   "id": "1177d28b-2a0a-478e-b467-33b8431a8586",
   "metadata": {},
   "outputs": [
    {
     "name": "stdout",
     "output_type": "stream",
     "text": [
      "-------------\n",
      "| x | o |   | \n",
      "-------------\n",
      "|   | x |   | \n",
      "-------------\n",
      "|   | o | x | \n",
      "-------------\n"
     ]
    },
    {
     "data": {
      "text/plain": [
       "(None,\n",
       " None,\n",
       " array([[0, 2],\n",
       "        [1, 0],\n",
       "        [1, 2],\n",
       "        [2, 0]]),\n",
       " False,\n",
       " '201121102')"
      ]
     },
     "execution_count": 9,
     "metadata": {},
     "output_type": "execute_result"
    }
   ],
   "source": [
    "action = [2, 2]\n",
    "env_33.step(action);\n",
    "env_33.printBoard(), env_33.isTerminal(), env_33.getEmptySpaces(), env_33.gameOver, env_33.getHash()"
   ]
  },
  {
   "cell_type": "code",
   "execution_count": 10,
   "id": "4c35db26-caab-4bde-8074-9cd667c323ab",
   "metadata": {},
   "outputs": [
    {
     "name": "stdout",
     "output_type": "stream",
     "text": [
      "-------------\n",
      "| x | o |   | \n",
      "-------------\n",
      "|   | x | o | \n",
      "-------------\n",
      "|   | o | x | \n",
      "-------------\n"
     ]
    },
    {
     "data": {
      "text/plain": [
       "(None,\n",
       " 1,\n",
       " array([[0, 2],\n",
       "        [1, 0],\n",
       "        [2, 0]]),\n",
       " True,\n",
       " '201120102')"
      ]
     },
     "execution_count": 10,
     "metadata": {},
     "output_type": "execute_result"
    }
   ],
   "source": [
    "action = [1, 2]\n",
    "env_33.step(action);\n",
    "env_33.printBoard(), env_33.isTerminal(), env_33.getEmptySpaces(), env_33.gameOver, env_33.getHash()"
   ]
  },
  {
   "cell_type": "markdown",
   "id": "5f24cca0-60aa-4d66-aaa7-8b42fd8e565d",
   "metadata": {},
   "source": [
    "### 1. Реализуйте обычное (табличное) Q-обучение. Обучите стратегии крестиков и ноликов для доски 3х3."
   ]
  },
  {
   "cell_type": "code",
   "execution_count": 11,
   "id": "31620f28-7fa4-4946-bebb-2b0214079a80",
   "metadata": {},
   "outputs": [],
   "source": [
    "def play_one_game(env, p1_strategy, p2_strategy, verbose=False):\n",
    "    \"\"\"\n",
    "    Реализация одной игры\n",
    "    env - окружение\n",
    "    p1_strategy - стратегия первого игрока (крестики)\n",
    "    p2_strategy - стратегия второго игрока (нолики)\n",
    "    verbose - отражаем доску после каждого хода\n",
    "    \"\"\"\n",
    "    env.reset()\n",
    "    done = False\n",
    "    \n",
    "    while not done:\n",
    "        s, actions = env.getHash(), env.getEmptySpaces()\n",
    "        cnt_acts = len(actions)\n",
    "        \n",
    "        if env.curTurn == 1:\n",
    "            if p1_strategy.index_best_action:\n",
    "                a = actions[p1_strategy.get_best_action(s, cnt_acts)]\n",
    "            else:\n",
    "                a = p1_strategy.get_best_action(s)\n",
    "        else:\n",
    "            if p2_strategy.index_best_action:\n",
    "                a = actions[p2_strategy.get_best_action(replace_state(s), cnt_acts)]\n",
    "            else:\n",
    "                a = p2_strategy.get_best_action(replace_state(s))\n",
    "                \n",
    "        observation, reward, done, info = env.step(a)\n",
    "        \n",
    "        if verbose:\n",
    "            env.printBoard()\n",
    "    \n",
    "    if verbose:\n",
    "        if reward == 1:\n",
    "            print(\"Победил игрок на крестиках\")\n",
    "        elif reward == -1:\n",
    "            print(\"Победил игрок на ноликах\")\n",
    "        else:\n",
    "            print(\"Победила Дружба, у нас ничья\")\n",
    "            \n",
    "    return reward"
   ]
  },
  {
   "cell_type": "code",
   "execution_count": 12,
   "id": "43b4de11-c271-47f1-8e2f-ad9d86c5711d",
   "metadata": {},
   "outputs": [],
   "source": [
    "class PlayerSimpleStrategy():\n",
    "    \"\"\"\n",
    "    Простая стратегия, кидаем рандом\n",
    "    на кол-во свободных клеток и делаем ход\n",
    "    \"\"\"\n",
    "    def __init__(self):\n",
    "        self.index_best_action = True\n",
    "\n",
    "        \n",
    "    def get_best_action(self, state, cnt_acts=None):\n",
    "        if cnt_acts is None:\n",
    "            acts = [i for i in list(state) if i == '1']\n",
    "            cnt_acts = len(acts)\n",
    "        return random.randint(0, cnt_acts-1)"
   ]
  },
  {
   "cell_type": "code",
   "execution_count": 13,
   "id": "158204fd-5f6e-4592-b592-dab478af0e8b",
   "metadata": {},
   "outputs": [
    {
     "name": "stdout",
     "output_type": "stream",
     "text": [
      "-------------\n",
      "|   | x |   | \n",
      "-------------\n",
      "|   |   |   | \n",
      "-------------\n",
      "|   |   |   | \n",
      "-------------\n",
      "-------------\n",
      "|   | x |   | \n",
      "-------------\n",
      "|   |   |   | \n",
      "-------------\n",
      "|   |   | o | \n",
      "-------------\n",
      "-------------\n",
      "|   | x |   | \n",
      "-------------\n",
      "|   |   | x | \n",
      "-------------\n",
      "|   |   | o | \n",
      "-------------\n",
      "-------------\n",
      "|   | x |   | \n",
      "-------------\n",
      "| o |   | x | \n",
      "-------------\n",
      "|   |   | o | \n",
      "-------------\n",
      "-------------\n",
      "| x | x |   | \n",
      "-------------\n",
      "| o |   | x | \n",
      "-------------\n",
      "|   |   | o | \n",
      "-------------\n",
      "-------------\n",
      "| x | x |   | \n",
      "-------------\n",
      "| o |   | x | \n",
      "-------------\n",
      "|   | o | o | \n",
      "-------------\n",
      "-------------\n",
      "| x | x |   | \n",
      "-------------\n",
      "| o |   | x | \n",
      "-------------\n",
      "| x | o | o | \n",
      "-------------\n",
      "-------------\n",
      "| x | x |   | \n",
      "-------------\n",
      "| o | o | x | \n",
      "-------------\n",
      "| x | o | o | \n",
      "-------------\n",
      "-------------\n",
      "| x | x | x | \n",
      "-------------\n",
      "| o | o | x | \n",
      "-------------\n",
      "| x | o | o | \n",
      "-------------\n",
      "Победил игрок на крестиках\n"
     ]
    },
    {
     "data": {
      "text/plain": [
       "1"
      ]
     },
     "execution_count": 13,
     "metadata": {},
     "output_type": "execute_result"
    }
   ],
   "source": [
    "simple_strategy = PlayerSimpleStrategy()\n",
    "play_one_game(env_33, simple_strategy, simple_strategy, True)"
   ]
  },
  {
   "cell_type": "code",
   "execution_count": 14,
   "id": "ce5e030a-9048-4203-8cac-fcc3a7632b77",
   "metadata": {},
   "outputs": [],
   "source": [
    "def strategy_evaluation(env, p1_strategy, p2_strategy, \n",
    "                        num_games=1000, verbose=False):\n",
    "    \"\"\"\n",
    "    Оценка предложенной стратегии\n",
    "    для некоторого кол-ва игр num_games\n",
    "    \"\"\"\n",
    "    player1_wins = 0\n",
    "    player2_wins = 0\n",
    "    draws = 0\n",
    "    if verbose:\n",
    "        for i in tqdm(range(num_games), file=sys.stdout):\n",
    "            reward = play_one_game(env, p1_strategy, p2_strategy, False)\n",
    "\n",
    "            if reward == 1:\n",
    "                player1_wins += 1\n",
    "            elif reward == -1:\n",
    "                player2_wins += 1\n",
    "            else:\n",
    "                draws += 1\n",
    "    else:\n",
    "        for i in range(num_games):\n",
    "            reward = play_one_game(env, p1_strategy, p2_strategy, False)\n",
    "\n",
    "            if reward == 1:\n",
    "                player1_wins += 1\n",
    "            elif reward == -1:\n",
    "                player2_wins += 1\n",
    "            else:\n",
    "                draws += 1\n",
    "    if verbose:\n",
    "        print(\" Победа крестики - \" + str(round(player1_wins / num_games, 4) * 100) + \"%\\n\", \\\n",
    "              \"Победа нолики - \" +  str(round(player2_wins / num_games, 4) * 100) + \"%\\n\", \\\n",
    "              \"Ничья - \" + str(round(draws / num_games, 4) * 100) + \"%\")\n",
    "    return player1_wins / num_games, player2_wins / num_games"
   ]
  },
  {
   "cell_type": "code",
   "execution_count": 15,
   "id": "87794f92-268e-43bf-97f8-4fd2d2dd24e7",
   "metadata": {},
   "outputs": [
    {
     "name": "stdout",
     "output_type": "stream",
     "text": [
      "100%|██████████| 10000/10000 [00:03<00:00, 3021.68it/s]\n",
      " Победа крестики - 58.209999999999994%\n",
      " Победа нолики - 29.330000000000002%\n",
      " Ничья - 12.46%\n"
     ]
    }
   ],
   "source": [
    "env_33 = ttt.TicTacToe(n_rows=3, n_cols=3, n_win=3)\n",
    "simple_strategy = PlayerSimpleStrategy()\n",
    "strategy_evaluation(env_33, simple_strategy, simple_strategy, num_games=10000, verbose=True);"
   ]
  },
  {
   "cell_type": "code",
   "execution_count": 16,
   "id": "7432b94b-f33e-4057-83c0-c3a23a929cb1",
   "metadata": {},
   "outputs": [],
   "source": [
    "class QStrategy:\n",
    "    def __init__(self, alpha, gamma):\n",
    "        self.index_best_action = True\n",
    "        self.alpha = alpha\n",
    "        self.gamma = gamma   \n",
    "        self.Qtable = {}\n",
    "        \n",
    "        \n",
    "    def get_value(self, state, cnt_acts=None):\n",
    "        if state not in self.Qtable:\n",
    "            if cnt_acts is None:\n",
    "                acts = [i for i in list(state) if i == '1']\n",
    "                cnt_acts = len(acts)\n",
    "            self.Qtable[state] = np.zeros(cnt_acts)\n",
    "        return self.Qtable[state]\n",
    "\n",
    "    \n",
    "    def update(self, state, cnt_acts, reward, next_state):\n",
    "        Q = self.get_value(state)[cnt_acts]\n",
    "        if next_state is None:\n",
    "            self.Qtable[state][cnt_acts] = Q + self.alpha * (reward - Q)\n",
    "        else:\n",
    "            V = np.max(self.get_value(next_state))\n",
    "            self.Qtable[state][cnt_acts] = Q + self.alpha * (reward + self.gamma * V - Q)\n",
    "      \n",
    "    \n",
    "    def get_best_action(self, state, cnt_acts=None):\n",
    "        return np.argmax(self.get_value(state, cnt_acts))\n",
    "        \n",
    "    \n",
    "    def get_action(self, state, epsilon, cnt_acts=None):\n",
    "        \"\"\"eps-greedy action\"\"\"\n",
    "        if random.random() > epsilon:\n",
    "            return self.get_best_action(state, cnt_acts)\n",
    "        else:\n",
    "            if cnt_acts is None:\n",
    "                acts = [i for i in list(state) if i == '1']\n",
    "                cnt_acts = len(acts)\n",
    "            return random.randint(0, cnt_acts-1)"
   ]
  },
  {
   "cell_type": "code",
   "execution_count": 18,
   "id": "a358ab2c-2292-4387-88af-c93c408bb0bd",
   "metadata": {},
   "outputs": [],
   "source": [
    "def QLearning(env, q_strategy, random_strategy, eps, max_iter):\n",
    "    \"\"\" Реализация Q-обучения\"\"\"\n",
    "    \n",
    "    player_1, player_2 = [], []\n",
    "    for i in tqdm(range(max_iter), file=sys.stdout):\n",
    "        \n",
    "        eps_upd = eps * (max_iter - i) / max_iter\n",
    "        \n",
    "        if (i % 10000) == 0:\n",
    "            p1, p2 = strategy_evaluation(env, q_strategy, random_strategy)\n",
    "            player_1.append((i + 1, p1))\n",
    "            \n",
    "            p1, p2 = strategy_evaluation(env, random_strategy, q_strategy)\n",
    "            player_2.append((i + 1, p2))\n",
    "            \n",
    "        done = False\n",
    "        env.reset()\n",
    "\n",
    "        s_pred, act_pred = env.getHash(), env.getEmptySpaces()\n",
    "        cnt_act_pred = q_strategy.get_action(s_pred, eps_upd, len(act_pred))\n",
    "        obs, reward, done, info = env.step(act_pred[cnt_act_pred])\n",
    "        \n",
    "        s_cur, act_cur = obs[0], obs[1]\n",
    "        curTurn = env.curTurn\n",
    "        s_cur = replace_state(s_cur)\n",
    "        \n",
    "        while not done:\n",
    "            cnt_act_cur = q_strategy.get_action(s_cur, eps_upd, len(act_cur))\n",
    "            obs, reward, done, info = env.step(act_cur[cnt_act_cur])\n",
    "            \n",
    "            if done: \n",
    "                q_strategy.update(s_pred, cnt_act_pred, -reward * curTurn, None)\n",
    "                q_strategy.update(s_cur, cnt_act_cur, reward * curTurn, None)\n",
    "                break\n",
    "\n",
    "            s_next = obs[0]\n",
    "            curTurn = env.curTurn\n",
    "            if curTurn == -1:\n",
    "                s_next = replace_state(s_next)\n",
    "                \n",
    "            q_strategy.update(s_pred, cnt_act_pred, reward, s_next)\n",
    "            s_pred, act_pred = s_cur, act_cur\n",
    "            s_cur, act_cur = s_next, obs[1]\n",
    "            cnt_act_pred = cnt_act_cur\n",
    "            \n",
    "    return player_1, player_2"
   ]
  },
  {
   "cell_type": "code",
   "execution_count": 19,
   "id": "603a4565-a06a-4f49-bef6-b296611a7e2b",
   "metadata": {},
   "outputs": [
    {
     "name": "stdout",
     "output_type": "stream",
     "text": [
      "100%|██████████| 500000/500000 [05:31<00:00, 1509.38it/s]\n",
      "CPU times: user 5min 14s, sys: 19.2 s, total: 5min 33s\n",
      "Wall time: 5min 31s\n"
     ]
    }
   ],
   "source": [
    "%%time\n",
    "eps = 0.3\n",
    "alpha = 0.1\n",
    "gamma = 0.9\n",
    "max_iter = 500000\n",
    "\n",
    "env_33 = ttt.TicTacToe(n_rows=3, n_cols=3, n_win=3)\n",
    "q_strategy = QStrategy(alpha, gamma)\n",
    "\n",
    "player_1, player_2 = QLearning(env_33, q_strategy, simple_strategy, eps, max_iter)"
   ]
  },
  {
   "cell_type": "markdown",
   "id": "8e9c5471-bc1f-48b3-829a-d3c1ddb0dcb4",
   "metadata": {},
   "source": [
    "Играем q-стратегией за крестики"
   ]
  },
  {
   "cell_type": "code",
   "execution_count": 20,
   "id": "0be18a4d-5bbc-4551-86c3-d8f4e61540e9",
   "metadata": {},
   "outputs": [
    {
     "name": "stdout",
     "output_type": "stream",
     "text": [
      "100%|██████████| 100000/100000 [00:28<00:00, 3476.52it/s]\n",
      " Победа крестики - 98.0%\n",
      " Победа нолики - 0.0%\n",
      " Ничья - 2.0%\n"
     ]
    },
    {
     "data": {
      "text/plain": [
       "(0.98, 0.0)"
      ]
     },
     "execution_count": 20,
     "metadata": {},
     "output_type": "execute_result"
    }
   ],
   "source": [
    "strategy_evaluation(env_33, q_strategy, simple_strategy, 100000, True)"
   ]
  },
  {
   "cell_type": "markdown",
   "id": "d4bf516d-e55b-4de5-acf3-e496b3c2bb78",
   "metadata": {},
   "source": [
    "Играем q-стратегией за нолики"
   ]
  },
  {
   "cell_type": "code",
   "execution_count": 21,
   "id": "c6412f6c-78fe-4adb-9d6f-adb246c2682a",
   "metadata": {},
   "outputs": [
    {
     "name": "stdout",
     "output_type": "stream",
     "text": [
      "100%|██████████| 100000/100000 [00:34<00:00, 2926.45it/s]\n",
      " Победа крестики - 0.61%\n",
      " Победа нолики - 81.8%\n",
      " Ничья - 17.59%\n"
     ]
    },
    {
     "data": {
      "text/plain": [
       "(0.00611, 0.81798)"
      ]
     },
     "execution_count": 21,
     "metadata": {},
     "output_type": "execute_result"
    }
   ],
   "source": [
    "strategy_evaluation(env_33, simple_strategy, q_strategy, 100000, True)"
   ]
  },
  {
   "cell_type": "markdown",
   "id": "69c17c62-b144-4c4c-9e7d-76722c3a3a64",
   "metadata": {},
   "source": [
    "Натравим q-стратегию крестиков на q-стратегию ноликов. Надеемся, что они достойны друг-друга"
   ]
  },
  {
   "cell_type": "code",
   "execution_count": 22,
   "id": "8550b0d1-4184-4c30-9540-5027d7aeee22",
   "metadata": {},
   "outputs": [
    {
     "name": "stdout",
     "output_type": "stream",
     "text": [
      "100%|██████████| 100000/100000 [00:48<00:00, 2050.99it/s]\n",
      " Победа крестики - 0.0%\n",
      " Победа нолики - 0.0%\n",
      " Ничья - 100.0%\n"
     ]
    },
    {
     "data": {
      "text/plain": [
       "(0.0, 0.0)"
      ]
     },
     "execution_count": 22,
     "metadata": {},
     "output_type": "execute_result"
    }
   ],
   "source": [
    "strategy_evaluation(env_33, q_strategy, q_strategy, 100000, True)"
   ]
  },
  {
   "cell_type": "code",
   "execution_count": 23,
   "id": "e92be7b3-4e17-4084-aef1-12e02852ea2d",
   "metadata": {},
   "outputs": [
    {
     "data": {
      "image/png": "[encoded data removed]",
      "text/plain": [
       "<Figure size 1080x504 with 1 Axes>"
      ]
     },
     "metadata": {},
     "output_type": "display_data"
    }
   ],
   "source": [
    "fig, ax = plt.subplots(1, figsize=(15, 7))\n",
    "\n",
    "x, y = [], []\n",
    "for i in player_1:\n",
    "    x.append(i[0])\n",
    "    y.append(i[1])\n",
    "    \n",
    "sns.lineplot(x, y, label=\"Игрок 1 (крестики)\")\n",
    "\n",
    "x, y = [], []\n",
    "for i in player_2:\n",
    "    x.append(i[0])\n",
    "    y.append(i[1])\n",
    "    \n",
    "sns.lineplot(x, y, label=\"Игрок 2 (нолики)\")\n",
    "\n",
    "ax.set_ylabel('Выигрыши', fontsize=15)\n",
    "ax.set_xlabel('Итерация', fontsize=15)\n",
    "plt.legend(loc=\"best\", fontsize=\"large\")\n",
    "plt.title('Динамика Q-обучения', fontsize=18);"
   ]
  },
  {
   "cell_type": "markdown",
   "id": "cc9d2346-a9b1-4cbf-b0e7-97757623e03e",
   "metadata": {},
   "source": [
    "### 2. Попробуйте обучить стратегии крестиков и ноликов для доски 4х4"
   ]
  },
  {
   "cell_type": "code",
   "execution_count": 24,
   "id": "22165f1b-17d5-4e08-98f6-6b46dd966eaa",
   "metadata": {},
   "outputs": [
    {
     "name": "stdout",
     "output_type": "stream",
     "text": [
      "100%|██████████| 1000000/1000000 [22:19<00:00, 746.67it/s] \n",
      "CPU times: user 21min 59s, sys: 1min 1s, total: 23min 1s\n",
      "Wall time: 22min 19s\n"
     ]
    }
   ],
   "source": [
    "%%time\n",
    "eps = 0.2\n",
    "alpha = 0.05\n",
    "gamma = 0.95\n",
    "max_iter = 1000000\n",
    "\n",
    "q_strategy = QStrategy(alpha, gamma)\n",
    "simple_strategy = PlayerSimpleStrategy()\n",
    "env_44 = ttt.TicTacToe(n_rows=4, n_cols=4, n_win=4)\n",
    "\n",
    "player_1, player_2 = QLearning(env_44, q_strategy, simple_strategy, eps, max_iter)"
   ]
  },
  {
   "cell_type": "markdown",
   "id": "c6928570-daf8-4c95-904a-9c14ee3c02ec",
   "metadata": {},
   "source": [
    "Играем q-стратегией за крестики"
   ]
  },
  {
   "cell_type": "code",
   "execution_count": 25,
   "id": "846544a7-64fd-461d-8059-7bfc16c74a01",
   "metadata": {},
   "outputs": [
    {
     "name": "stdout",
     "output_type": "stream",
     "text": [
      "100%|██████████| 100000/100000 [01:15<00:00, 1324.92it/s]\n",
      " Победа крестики - 65.36999999999999%\n",
      " Победа нолики - 16.18%\n",
      " Ничья - 18.45%\n"
     ]
    },
    {
     "data": {
      "text/plain": [
       "(0.65373, 0.16181)"
      ]
     },
     "execution_count": 25,
     "metadata": {},
     "output_type": "execute_result"
    }
   ],
   "source": [
    "strategy_evaluation(env_44, q_strategy, simple_strategy, 100000, True)"
   ]
  },
  {
   "cell_type": "markdown",
   "id": "9181d7b2-3dd4-4e3c-b1b5-d7f835828c75",
   "metadata": {},
   "source": [
    "Играем q-стратегией за нолики"
   ]
  },
  {
   "cell_type": "code",
   "execution_count": 26,
   "id": "2b81d052-397d-472c-ae69-8e0a7e5cccfb",
   "metadata": {},
   "outputs": [
    {
     "name": "stdout",
     "output_type": "stream",
     "text": [
      "100%|██████████| 100000/100000 [01:24<00:00, 1184.68it/s]\n",
      " Победа крестики - 23.84%\n",
      " Победа нолики - 47.199999999999996%\n",
      " Ничья - 28.96%\n"
     ]
    },
    {
     "data": {
      "text/plain": [
       "(0.23841, 0.47197)"
      ]
     },
     "execution_count": 26,
     "metadata": {},
     "output_type": "execute_result"
    }
   ],
   "source": [
    "strategy_evaluation(env_44, simple_strategy, q_strategy, 100000, True)"
   ]
  },
  {
   "cell_type": "markdown",
   "id": "09f7571a-586a-448a-add6-ec612eb4d03b",
   "metadata": {},
   "source": [
    "Натравим q-стратегию крестиков на q-стратегию ноликов. Надеемся, что они достойны друг-друга"
   ]
  },
  {
   "cell_type": "code",
   "execution_count": 27,
   "id": "0b367b24-f52f-4ad8-ab48-e2abc9537840",
   "metadata": {},
   "outputs": [
    {
     "name": "stdout",
     "output_type": "stream",
     "text": [
      "100%|██████████| 100000/100000 [01:56<00:00, 861.08it/s]\n",
      " Победа крестики - 0.0%\n",
      " Победа нолики - 0.0%\n",
      " Ничья - 100.0%\n"
     ]
    },
    {
     "data": {
      "text/plain": [
       "(0.0, 0.0)"
      ]
     },
     "execution_count": 27,
     "metadata": {},
     "output_type": "execute_result"
    }
   ],
   "source": [
    "strategy_evaluation(env_44, q_strategy, q_strategy, 100000, True)"
   ]
  },
  {
   "cell_type": "code",
   "execution_count": 28,
   "id": "00d049cb-6d82-4d97-ad44-cde35d8649e6",
   "metadata": {},
   "outputs": [
    {
     "data": {
      "image/png": "[encoded data removed]",
      "text/plain": [
       "<Figure size 1080x504 with 1 Axes>"
      ]
     },
     "metadata": {},
     "output_type": "display_data"
    }
   ],
   "source": [
    "fig, ax = plt.subplots(1, figsize=(15, 7))\n",
    "\n",
    "x, y = [], []\n",
    "for i in player_1:\n",
    "    x.append(i[0])\n",
    "    y.append(i[1])\n",
    "    \n",
    "sns.lineplot(x, y, label=\"Игрок 1 (крестики)\")\n",
    "\n",
    "x, y = [], []\n",
    "for i in player_2:\n",
    "    x.append(i[0])\n",
    "    y.append(i[1])\n",
    "    \n",
    "sns.lineplot(x, y, label=\"Игрок 2 (нолики)\")\n",
    "\n",
    "ax.set_ylabel('Выигрыши', fontsize=15)\n",
    "ax.set_xlabel('Итерация', fontsize=15)\n",
    "plt.legend(loc=\"best\", fontsize=\"large\")\n",
    "plt.title('Динамика Q-обучения', fontsize=18);"
   ]
  },
  {
   "cell_type": "markdown",
   "id": "b00fb620-258c-4462-aaf5-859ecf03bd67",
   "metadata": {},
   "source": [
    "По результатам на доске 4x4 вроде q-learning обучился, можно убедиться на 100% ничьих при игре q-стратегии на крестиках и ноликах. С другой стороны, не прослеживается на графике тренд на улучшение результатов для каждого из игроков. Возможно, здесь уже надо в разы увеличивать итерации, да и параметры потюнить"
   ]
  },
  {
   "cell_type": "markdown",
   "id": "6317a396-0163-4889-9d08-98700bcb00b2",
   "metadata": {},
   "source": [
    "### Часть вторая: добавим нейронных сетей\n",
    "Реализуйте нейронную сеть для метода DQN на доске для крестиков-ноликов. Не буду ограничивать фантазию, но кажется, что свёртки 3х3 здесь должны неплохо работать (в том числе обобщаться на доски размера побольше).\n",
    "\n",
    "3.\tРеализуйте DQN с нейронной сетью, обучите стратегии крестиков и ноликов. Замечание: скорее всего, experience replay потребуется сразу же."
   ]
  },
  {
   "cell_type": "markdown",
   "id": "4290e316-21f4-4c91-bf96-84581b857660",
   "metadata": {},
   "source": [
    "Не получилось реализовать DQN, лишний код был вычищен из тетрадки"
   ]
  },
  {
   "cell_type": "code",
   "execution_count": null,
   "id": "05e6f896-1f18-4385-a46a-73a739cd838b",
   "metadata": {},
   "outputs": [],
   "source": []
  }
 ],
 "metadata": {
  "kernelspec": {
   "display_name": "Python 3",
   "language": "python",
   "name": "python3"
  },
  "language_info": {
   "codemirror_mode": {
    "name": "ipython",
    "version": 3
   },
   "file_extension": ".py",
   "mimetype": "text/x-python",
   "name": "python",
   "nbconvert_exporter": "python",
   "pygments_lexer": "ipython3",
   "version": "3.8.8"
  }
 },
 "nbformat": 4,
 "nbformat_minor": 5
}
