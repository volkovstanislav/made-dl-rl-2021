{
 "cells": [
  {
   "cell_type": "markdown",
   "metadata": {},
   "source": [
    "### Загружаем библиотеки"
   ]
  },
  {
   "cell_type": "code",
   "execution_count": 1,
   "metadata": {},
   "outputs": [],
   "source": [
    "import datetime\n",
    "import numpy as np\n",
    "import pandas as pd\n",
    "import seaborn as sns\n",
    "import statsmodels.api as sm\n",
    "import matplotlib.pyplot as plt\n",
    "\n",
    "from math import sqrt\n",
    "from statsmodels.tsa.arima.model import ARIMA\n",
    "from sklearn.metrics import mean_squared_error"
   ]
  },
  {
   "cell_type": "markdown",
   "metadata": {},
   "source": [
    "### 1-ый вопрос: На основании данных рейтинга top500 спрогнозировать  производительность компьютера №1 в 2025"
   ]
  },
  {
   "cell_type": "markdown",
   "metadata": {},
   "source": [
    "Данные по производительности суперкомпьютеров топ-500 взяты по ссылке: https://www.top500.org/statistics/perfdevel/"
   ]
  },
  {
   "cell_type": "code",
   "execution_count": 2,
   "metadata": {},
   "outputs": [
    {
     "name": "stdout",
     "output_type": "stream",
     "text": [
      "(66, 4)\n",
      "year      datetime64[ns]\n",
      "top1             float64\n",
      "top500           float64\n",
      "sum500           float64\n",
      "dtype: object\n",
      "1993-06-01 00:00:00 2025-11-01 00:00:00\n"
     ]
    },
    {
     "data": {
      "text/html": [
       "<div>\n",
       "<style scoped>\n",
       "    .dataframe tbody tr th:only-of-type {\n",
       "        vertical-align: middle;\n",
       "    }\n",
       "\n",
       "    .dataframe tbody tr th {\n",
       "        vertical-align: top;\n",
       "    }\n",
       "\n",
       "    .dataframe thead th {\n",
       "        text-align: right;\n",
       "    }\n",
       "</style>\n",
       "<table border=\"1\" class=\"dataframe\">\n",
       "  <thead>\n",
       "    <tr style=\"text-align: right;\">\n",
       "      <th></th>\n",
       "      <th>year</th>\n",
       "      <th>top1</th>\n",
       "      <th>top500</th>\n",
       "      <th>sum500</th>\n",
       "    </tr>\n",
       "  </thead>\n",
       "  <tbody>\n",
       "    <tr>\n",
       "      <th>0</th>\n",
       "      <td>1993-06-01</td>\n",
       "      <td>59.7</td>\n",
       "      <td>0.4</td>\n",
       "      <td>1100.0</td>\n",
       "    </tr>\n",
       "    <tr>\n",
       "      <th>1</th>\n",
       "      <td>1993-11-01</td>\n",
       "      <td>124.0</td>\n",
       "      <td>0.5</td>\n",
       "      <td>1500.0</td>\n",
       "    </tr>\n",
       "    <tr>\n",
       "      <th>2</th>\n",
       "      <td>1994-06-01</td>\n",
       "      <td>143.4</td>\n",
       "      <td>0.8</td>\n",
       "      <td>2300.0</td>\n",
       "    </tr>\n",
       "    <tr>\n",
       "      <th>3</th>\n",
       "      <td>1994-11-01</td>\n",
       "      <td>170.0</td>\n",
       "      <td>1.2</td>\n",
       "      <td>2700.0</td>\n",
       "    </tr>\n",
       "    <tr>\n",
       "      <th>4</th>\n",
       "      <td>1995-06-01</td>\n",
       "      <td>170.0</td>\n",
       "      <td>2.0</td>\n",
       "      <td>3900.0</td>\n",
       "    </tr>\n",
       "  </tbody>\n",
       "</table>\n",
       "</div>"
      ],
      "text/plain": [
       "        year   top1  top500  sum500\n",
       "0 1993-06-01   59.7     0.4  1100.0\n",
       "1 1993-11-01  124.0     0.5  1500.0\n",
       "2 1994-06-01  143.4     0.8  2300.0\n",
       "3 1994-11-01  170.0     1.2  2700.0\n",
       "4 1995-06-01  170.0     2.0  3900.0"
      ]
     },
     "execution_count": 2,
     "metadata": {},
     "output_type": "execute_result"
    }
   ],
   "source": [
    "data = pd.read_excel(\"data/top500.xlsx\")\n",
    "print(data.shape)\n",
    "print(data.dtypes)\n",
    "print(data['year'].min(), data['year'].max())\n",
    "data.head()"
   ]
  },
  {
   "cell_type": "code",
   "execution_count": 3,
   "metadata": {},
   "outputs": [
    {
     "name": "stdout",
     "output_type": "stream",
     "text": [
      "Размерность в Гигафлопсах\n",
      "59.7 442000000.0\n"
     ]
    }
   ],
   "source": [
    "print('Размерность в Гигафлопсах')\n",
    "print(data['top1'].min(), data['top1'].max())"
   ]
  },
  {
   "cell_type": "code",
   "execution_count": 4,
   "metadata": {},
   "outputs": [
    {
     "name": "stdout",
     "output_type": "stream",
     "text": [
      "Размерность в Терафлопсах\n",
      "0.0597 442000.0\n"
     ]
    }
   ],
   "source": [
    "# Переведем из гигофлопсов в терафлопсы\n",
    "data['top1'] = data['top1'] / 1000\n",
    "print('Размерность в Терафлопсах')\n",
    "print(data['top1'].min(), data['top1'].max())"
   ]
  },
  {
   "cell_type": "code",
   "execution_count": 5,
   "metadata": {},
   "outputs": [
    {
     "data": {
      "image/png": "[encoded data removed]",
      "text/plain": [
       "<Figure size 432x288 with 1 Axes>"
      ]
     },
     "metadata": {
      "needs_background": "light"
     },
     "output_type": "display_data"
    }
   ],
   "source": [
    "# Отлогарифмируем и отрисуем для удобства моделирования\n",
    "data['log_top1'] = np.log(data['top1'])\n",
    "plt.xticks(rotation = 25)\n",
    "sns.lineplot(x='year', y='log_top1', data=data);"
   ]
  },
  {
   "cell_type": "markdown",
   "metadata": {},
   "source": [
    "### Линейная регрессия"
   ]
  },
  {
   "cell_type": "code",
   "execution_count": 6,
   "metadata": {},
   "outputs": [],
   "source": [
    "# накидаем фич на дату и отмасштабируем их\n",
    "data['f_year'] = data['year'].dt.year\n",
    "data['f_month'] = data['year'].dt.month"
   ]
  },
  {
   "cell_type": "code",
   "execution_count": 7,
   "metadata": {},
   "outputs": [
    {
     "data": {
      "text/html": [
       "<table class=\"simpletable\">\n",
       "<caption>OLS Regression Results</caption>\n",
       "<tr>\n",
       "  <th>Dep. Variable:</th>        <td>log_top1</td>     <th>  R-squared:         </th> <td>   0.988</td>\n",
       "</tr>\n",
       "<tr>\n",
       "  <th>Model:</th>                   <td>OLS</td>       <th>  Adj. R-squared:    </th> <td>   0.987</td>\n",
       "</tr>\n",
       "<tr>\n",
       "  <th>Method:</th>             <td>Least Squares</td>  <th>  F-statistic:       </th> <td>   2188.</td>\n",
       "</tr>\n",
       "<tr>\n",
       "  <th>Date:</th>             <td>Mon, 27 Sep 2021</td> <th>  Prob (F-statistic):</th> <td>2.10e-52</td>\n",
       "</tr>\n",
       "<tr>\n",
       "  <th>Time:</th>                 <td>22:00:34</td>     <th>  Log-Likelihood:    </th> <td> -45.791</td>\n",
       "</tr>\n",
       "<tr>\n",
       "  <th>No. Observations:</th>      <td>    57</td>      <th>  AIC:               </th> <td>   97.58</td>\n",
       "</tr>\n",
       "<tr>\n",
       "  <th>Df Residuals:</th>          <td>    54</td>      <th>  BIC:               </th> <td>   103.7</td>\n",
       "</tr>\n",
       "<tr>\n",
       "  <th>Df Model:</th>              <td>     2</td>      <th>                     </th>     <td> </td>   \n",
       "</tr>\n",
       "<tr>\n",
       "  <th>Covariance Type:</th>      <td>nonrobust</td>    <th>                     </th>     <td> </td>   \n",
       "</tr>\n",
       "</table>\n",
       "<table class=\"simpletable\">\n",
       "<tr>\n",
       "     <td></td>        <th>coef</th>     <th>std err</th>      <th>t</th>      <th>P>|t|</th>  <th>[0.025</th>    <th>0.975]</th>  \n",
       "</tr>\n",
       "<tr>\n",
       "  <th>const</th>   <td>-1181.2786</td> <td>   17.947</td> <td>  -65.820</td> <td> 0.000</td> <td>-1217.260</td> <td>-1145.297</td>\n",
       "</tr>\n",
       "<tr>\n",
       "  <th>f_year</th>  <td>    0.5913</td> <td>    0.009</td> <td>   66.151</td> <td> 0.000</td> <td>    0.573</td> <td>    0.609</td>\n",
       "</tr>\n",
       "<tr>\n",
       "  <th>f_month</th> <td>    0.0485</td> <td>    0.029</td> <td>    1.647</td> <td> 0.105</td> <td>   -0.011</td> <td>    0.107</td>\n",
       "</tr>\n",
       "</table>\n",
       "<table class=\"simpletable\">\n",
       "<tr>\n",
       "  <th>Omnibus:</th>       <td> 1.202</td> <th>  Durbin-Watson:     </th> <td>   0.465</td>\n",
       "</tr>\n",
       "<tr>\n",
       "  <th>Prob(Omnibus):</th> <td> 0.548</td> <th>  Jarque-Bera (JB):  </th> <td>   1.016</td>\n",
       "</tr>\n",
       "<tr>\n",
       "  <th>Skew:</th>          <td> 0.086</td> <th>  Prob(JB):          </th> <td>   0.602</td>\n",
       "</tr>\n",
       "<tr>\n",
       "  <th>Kurtosis:</th>      <td> 2.369</td> <th>  Cond. No.          </th> <td>4.90e+05</td>\n",
       "</tr>\n",
       "</table><br/><br/>Warnings:<br/>[1] Standard Errors assume that the covariance matrix of the errors is correctly specified.<br/>[2] The condition number is large, 4.9e+05. This might indicate that there are<br/>strong multicollinearity or other numerical problems."
      ],
      "text/plain": [
       "<class 'statsmodels.iolib.summary.Summary'>\n",
       "\"\"\"\n",
       "                            OLS Regression Results                            \n",
       "==============================================================================\n",
       "Dep. Variable:               log_top1   R-squared:                       0.988\n",
       "Model:                            OLS   Adj. R-squared:                  0.987\n",
       "Method:                 Least Squares   F-statistic:                     2188.\n",
       "Date:                Mon, 27 Sep 2021   Prob (F-statistic):           2.10e-52\n",
       "Time:                        22:00:34   Log-Likelihood:                -45.791\n",
       "No. Observations:                  57   AIC:                             97.58\n",
       "Df Residuals:                      54   BIC:                             103.7\n",
       "Df Model:                           2                                         \n",
       "Covariance Type:            nonrobust                                         \n",
       "==============================================================================\n",
       "                 coef    std err          t      P>|t|      [0.025      0.975]\n",
       "------------------------------------------------------------------------------\n",
       "const      -1181.2786     17.947    -65.820      0.000   -1217.260   -1145.297\n",
       "f_year         0.5913      0.009     66.151      0.000       0.573       0.609\n",
       "f_month        0.0485      0.029      1.647      0.105      -0.011       0.107\n",
       "==============================================================================\n",
       "Omnibus:                        1.202   Durbin-Watson:                   0.465\n",
       "Prob(Omnibus):                  0.548   Jarque-Bera (JB):                1.016\n",
       "Skew:                           0.086   Prob(JB):                        0.602\n",
       "Kurtosis:                       2.369   Cond. No.                     4.90e+05\n",
       "==============================================================================\n",
       "\n",
       "Warnings:\n",
       "[1] Standard Errors assume that the covariance matrix of the errors is correctly specified.\n",
       "[2] The condition number is large, 4.9e+05. This might indicate that there are\n",
       "strong multicollinearity or other numerical problems.\n",
       "\"\"\""
      ]
     },
     "execution_count": 7,
     "metadata": {},
     "output_type": "execute_result"
    }
   ],
   "source": [
    "X = data[(data['year']<=datetime.datetime(2021,6,1))][['f_year','f_month']] \n",
    "y = data[(data['year']<=datetime.datetime(2021,6,1))][['log_top1']]\n",
    "\n",
    "X = sm.add_constant(X)\n",
    "\n",
    "model = sm.OLS(y, X).fit()\n",
    "predictions = model.predict(X) \n",
    "model.summary()"
   ]
  },
  {
   "cell_type": "code",
   "execution_count": 8,
   "metadata": {},
   "outputs": [
    {
     "name": "stdout",
     "output_type": "stream",
     "text": [
      "Прогнозная мощность топ-1 суперкомпьютера в 2025 году к ноябрю: 1234409.92 Терафлопс\n"
     ]
    }
   ],
   "source": [
    "y_pred = model.predict(sm.add_constant(data[(data['year']<=datetime.datetime(2021,6,1))][['f_year','f_month']] )) \n",
    "print('Прогнозная мощность топ-1 суперкомпьютера в 2025 году к ноябрю:', round(np.exp(y_pred.tail(1).values[0]), 2), 'Терафлопс')"
   ]
  },
  {
   "cell_type": "markdown",
   "metadata": {},
   "source": [
    "### Модель ARIMA"
   ]
  },
  {
   "cell_type": "code",
   "execution_count": 9,
   "metadata": {},
   "outputs": [
    {
     "name": "stdout",
     "output_type": "stream",
     "text": [
      "Прогноз=10.549244, Наблюдаемые=10.431170\n",
      "Прогноз=10.663735, Наблюдаемые=10.431170\n",
      "Прогноз=10.456443, Наблюдаемые=10.431170\n",
      "Прогноз=10.602122, Наблюдаемые=10.431170\n",
      "Прогноз=10.431170, Наблюдаемые=11.440355\n",
      "Прогноз=11.651698, Наблюдаемые=11.440355\n",
      "Прогноз=11.545076, Наблюдаемые=11.440355\n",
      "Прогноз=11.564793, Наблюдаемые=11.440355\n",
      "Прогноз=11.458123, Наблюдаемые=11.714232\n",
      "Прогноз=12.014746, Наблюдаемые=11.874090\n",
      "Прогноз=11.929510, Наблюдаемые=11.909013\n",
      "Прогноз=11.960107, Наблюдаемые=11.909013\n",
      "Прогноз=11.942911, Наблюдаемые=12.937238\n",
      "Прогноз=13.194650, Наблюдаемые=12.999065\n",
      "Прогноз=13.146624, Наблюдаемые=12.999065\n",
      "Тест, метрика RMSE: 0.394\n"
     ]
    },
    {
     "data": {
      "image/png": "[encoded data removed]",
      "text/plain": [
       "<Figure size 432x288 with 1 Axes>"
      ]
     },
     "metadata": {
      "needs_background": "light"
     },
     "output_type": "display_data"
    }
   ],
   "source": [
    "X = data[(data['year']<=datetime.datetime(2021,6,1))][['log_top1']].values\n",
    "size = int(len(X) * 0.75)\n",
    "train, test = X[0:size], X[size:len(X)]\n",
    "history = [x for x in train]\n",
    "predictions = list()\n",
    "\n",
    "for t in range(len(test)):\n",
    "    model = ARIMA(history, order=(5,1,0))\n",
    "    model_fit = model.fit()\n",
    "    output = model_fit.forecast()\n",
    "    yhat = output[0]\n",
    "    predictions.append(yhat)\n",
    "    obs = test[t]\n",
    "    history.append(obs)\n",
    "    print('Прогноз=%f, Наблюдаемые=%f' % (yhat, obs))\n",
    "rmse = sqrt(mean_squared_error(test, predictions))\n",
    "print('Тест, метрика RMSE: %.3f' % rmse)\n",
    "plt.plot(test, label='Тест')\n",
    "plt.plot(predictions, color='red', label='Прогноз')\n",
    "plt.legend()\n",
    "plt.show()"
   ]
  },
  {
   "cell_type": "code",
   "execution_count": 10,
   "metadata": {},
   "outputs": [
    {
     "name": "stdout",
     "output_type": "stream",
     "text": [
      "Прогнозная мощность топ-1 суперкомпьютера в 2022 году к июню 512278.49 Терафлопc\n",
      "Прогнозная мощность топ-1 суперкомпьютера в 2022 году к ноябрю 601316.15 Терафлопc\n",
      "Прогнозная мощность топ-1 суперкомпьютера в 2023 году к июню 681180.88 Терафлопc\n",
      "Прогнозная мощность топ-1 суперкомпьютера в 2023 году к ноябрю 907846.69 Терафлопc\n",
      "Прогнозная мощность топ-1 суперкомпьютера в 2024 году к июню 1004624.86 Терафлопc\n",
      "Прогнозная мощность топ-1 суперкомпьютера в 2024 году к ноябрю 1114451.0 Терафлопc\n",
      "Прогнозная мощность топ-1 суперкомпьютера в 2025 году к июню 1238799.35 Терафлопc\n",
      "Прогнозная мощность топ-1 суперкомпьютера в 2025 году к ноябрю 1353295.49 Терафлопc\n"
     ]
    }
   ],
   "source": [
    "predict = model_fit.forecast(steps=8)\n",
    "print('Прогнозная мощность топ-1 суперкомпьютера в 2022 году к июню', round(np.exp(predict[0]), 2), 'Терафлопc')\n",
    "print('Прогнозная мощность топ-1 суперкомпьютера в 2022 году к ноябрю', round(np.exp(predict[1]), 2), 'Терафлопc')\n",
    "print('Прогнозная мощность топ-1 суперкомпьютера в 2023 году к июню', round(np.exp(predict[2]), 2), 'Терафлопc')\n",
    "print('Прогнозная мощность топ-1 суперкомпьютера в 2023 году к ноябрю', round(np.exp(predict[3]), 2), 'Терафлопc')\n",
    "print('Прогнозная мощность топ-1 суперкомпьютера в 2024 году к июню', round(np.exp(predict[4]), 2), 'Терафлопc')\n",
    "print('Прогнозная мощность топ-1 суперкомпьютера в 2024 году к ноябрю', round(np.exp(predict[5]), 2), 'Терафлопc')\n",
    "print('Прогнозная мощность топ-1 суперкомпьютера в 2025 году к июню', round(np.exp(predict[6]), 2), 'Терафлопc')\n",
    "print('Прогнозная мощность топ-1 суперкомпьютера в 2025 году к ноябрю', round(np.exp(predict[7]), 2), 'Терафлопc')"
   ]
  },
  {
   "cell_type": "markdown",
   "metadata": {},
   "source": [
    "## 2-ой вопрос: Оцените какой процент всего производимого на Земле электричества потребляют все компьютеры из top500 (на основании открытых данных top500.org)"
   ]
  },
  {
   "cell_type": "code",
   "execution_count": 11,
   "metadata": {},
   "outputs": [
    {
     "name": "stdout",
     "output_type": "stream",
     "text": [
      "(500, 38)\n"
     ]
    },
    {
     "data": {
      "text/html": [
       "<div>\n",
       "<style scoped>\n",
       "    .dataframe tbody tr th:only-of-type {\n",
       "        vertical-align: middle;\n",
       "    }\n",
       "\n",
       "    .dataframe tbody tr th {\n",
       "        vertical-align: top;\n",
       "    }\n",
       "\n",
       "    .dataframe thead th {\n",
       "        text-align: right;\n",
       "    }\n",
       "</style>\n",
       "<table border=\"1\" class=\"dataframe\">\n",
       "  <thead>\n",
       "    <tr style=\"text-align: right;\">\n",
       "      <th></th>\n",
       "      <th>Rank</th>\n",
       "      <th>Previous Rank</th>\n",
       "      <th>First Appearance</th>\n",
       "      <th>First Rank</th>\n",
       "      <th>Name</th>\n",
       "      <th>Computer</th>\n",
       "      <th>Site</th>\n",
       "      <th>Manufacturer</th>\n",
       "      <th>Country</th>\n",
       "      <th>Year</th>\n",
       "      <th>...</th>\n",
       "      <th>Accelerator/Co-Processor</th>\n",
       "      <th>Cores per Socket</th>\n",
       "      <th>Processor Generation</th>\n",
       "      <th>System Model</th>\n",
       "      <th>System Family</th>\n",
       "      <th>Interconnect Family</th>\n",
       "      <th>Interconnect</th>\n",
       "      <th>Continent</th>\n",
       "      <th>Site ID</th>\n",
       "      <th>System ID</th>\n",
       "    </tr>\n",
       "  </thead>\n",
       "  <tbody>\n",
       "    <tr>\n",
       "      <th>0</th>\n",
       "      <td>1</td>\n",
       "      <td>1.0</td>\n",
       "      <td>55</td>\n",
       "      <td>1</td>\n",
       "      <td>Supercomputer Fugaku</td>\n",
       "      <td>Supercomputer Fugaku, A64FX 48C 2.2GHz, Tofu i...</td>\n",
       "      <td>RIKEN Center for Computational Science</td>\n",
       "      <td>Fujitsu</td>\n",
       "      <td>Japan</td>\n",
       "      <td>2020</td>\n",
       "      <td>...</td>\n",
       "      <td>None</td>\n",
       "      <td>48</td>\n",
       "      <td>Fujitsu A64FX</td>\n",
       "      <td>Supercomputer Fugaku</td>\n",
       "      <td>Fujitsu Cluster</td>\n",
       "      <td>Proprietary Network</td>\n",
       "      <td>Tofu interconnect D</td>\n",
       "      <td>Asia</td>\n",
       "      <td>50831</td>\n",
       "      <td>179807</td>\n",
       "    </tr>\n",
       "    <tr>\n",
       "      <th>1</th>\n",
       "      <td>2</td>\n",
       "      <td>2.0</td>\n",
       "      <td>51</td>\n",
       "      <td>1</td>\n",
       "      <td>Summit</td>\n",
       "      <td>IBM Power System AC922, IBM POWER9 22C 3.07GHz...</td>\n",
       "      <td>DOE/SC/Oak Ridge National Laboratory</td>\n",
       "      <td>IBM</td>\n",
       "      <td>United States</td>\n",
       "      <td>2018</td>\n",
       "      <td>...</td>\n",
       "      <td>NVIDIA Volta GV100</td>\n",
       "      <td>22</td>\n",
       "      <td>IBM POWER9</td>\n",
       "      <td>IBM Power System AC922</td>\n",
       "      <td>IBM Power Systems</td>\n",
       "      <td>Infiniband</td>\n",
       "      <td>Dual-rail Mellanox EDR Infiniband</td>\n",
       "      <td>North America</td>\n",
       "      <td>48553</td>\n",
       "      <td>179397</td>\n",
       "    </tr>\n",
       "    <tr>\n",
       "      <th>2</th>\n",
       "      <td>3</td>\n",
       "      <td>3.0</td>\n",
       "      <td>51</td>\n",
       "      <td>3</td>\n",
       "      <td>Sierra</td>\n",
       "      <td>IBM Power System AC922, IBM POWER9 22C 3.1GHz,...</td>\n",
       "      <td>DOE/NNSA/LLNL</td>\n",
       "      <td>IBM / NVIDIA / Mellanox</td>\n",
       "      <td>United States</td>\n",
       "      <td>2018</td>\n",
       "      <td>...</td>\n",
       "      <td>NVIDIA Volta GV100</td>\n",
       "      <td>22</td>\n",
       "      <td>IBM POWER9</td>\n",
       "      <td>IBM Power System AC922</td>\n",
       "      <td>IBM Power Systems</td>\n",
       "      <td>Infiniband</td>\n",
       "      <td>Dual-rail Mellanox EDR Infiniband</td>\n",
       "      <td>North America</td>\n",
       "      <td>49763</td>\n",
       "      <td>179398</td>\n",
       "    </tr>\n",
       "    <tr>\n",
       "      <th>3</th>\n",
       "      <td>4</td>\n",
       "      <td>4.0</td>\n",
       "      <td>47</td>\n",
       "      <td>1</td>\n",
       "      <td>Sunway TaihuLight</td>\n",
       "      <td>Sunway MPP, Sunway SW26010 260C 1.45GHz, Sunway</td>\n",
       "      <td>National Supercomputing Center in Wuxi</td>\n",
       "      <td>NRCPC</td>\n",
       "      <td>China</td>\n",
       "      <td>2016</td>\n",
       "      <td>...</td>\n",
       "      <td>None</td>\n",
       "      <td>260</td>\n",
       "      <td>Sunway</td>\n",
       "      <td>Sunway MPP</td>\n",
       "      <td>Sunway Cluster</td>\n",
       "      <td>Custom Interconnect</td>\n",
       "      <td>Sunway</td>\n",
       "      <td>Asia</td>\n",
       "      <td>50623</td>\n",
       "      <td>178764</td>\n",
       "    </tr>\n",
       "    <tr>\n",
       "      <th>4</th>\n",
       "      <td>5</td>\n",
       "      <td>NaN</td>\n",
       "      <td>57</td>\n",
       "      <td>5</td>\n",
       "      <td>Perlmutter</td>\n",
       "      <td>HPE Cray EX235n, AMD EPYC 7763 64C 2.45GHz, NV...</td>\n",
       "      <td>DOE/SC/LBNL/NERSC</td>\n",
       "      <td>HPE</td>\n",
       "      <td>United States</td>\n",
       "      <td>2021</td>\n",
       "      <td>...</td>\n",
       "      <td>NVIDIA A100 SXM4 40 GB</td>\n",
       "      <td>64</td>\n",
       "      <td>AMD Milan</td>\n",
       "      <td>HPE Cray EX235n</td>\n",
       "      <td>HPE Cray EX</td>\n",
       "      <td>Gigabit Ethernet</td>\n",
       "      <td>Slingshot-10</td>\n",
       "      <td>North America</td>\n",
       "      <td>48429</td>\n",
       "      <td>179972</td>\n",
       "    </tr>\n",
       "  </tbody>\n",
       "</table>\n",
       "<p>5 rows × 38 columns</p>\n",
       "</div>"
      ],
      "text/plain": [
       "   Rank  Previous Rank  First Appearance  First Rank                  Name  \\\n",
       "0     1            1.0                55           1  Supercomputer Fugaku   \n",
       "1     2            2.0                51           1                Summit   \n",
       "2     3            3.0                51           3                Sierra   \n",
       "3     4            4.0                47           1     Sunway TaihuLight   \n",
       "4     5            NaN                57           5            Perlmutter   \n",
       "\n",
       "                                            Computer  \\\n",
       "0  Supercomputer Fugaku, A64FX 48C 2.2GHz, Tofu i...   \n",
       "1  IBM Power System AC922, IBM POWER9 22C 3.07GHz...   \n",
       "2  IBM Power System AC922, IBM POWER9 22C 3.1GHz,...   \n",
       "3    Sunway MPP, Sunway SW26010 260C 1.45GHz, Sunway   \n",
       "4  HPE Cray EX235n, AMD EPYC 7763 64C 2.45GHz, NV...   \n",
       "\n",
       "                                     Site             Manufacturer  \\\n",
       "0  RIKEN Center for Computational Science                  Fujitsu   \n",
       "1    DOE/SC/Oak Ridge National Laboratory                      IBM   \n",
       "2                           DOE/NNSA/LLNL  IBM / NVIDIA / Mellanox   \n",
       "3  National Supercomputing Center in Wuxi                    NRCPC   \n",
       "4                       DOE/SC/LBNL/NERSC                      HPE   \n",
       "\n",
       "         Country  Year  ... Accelerator/Co-Processor  Cores per Socket  \\\n",
       "0          Japan  2020  ...                     None                48   \n",
       "1  United States  2018  ...       NVIDIA Volta GV100                22   \n",
       "2  United States  2018  ...       NVIDIA Volta GV100                22   \n",
       "3          China  2016  ...                     None               260   \n",
       "4  United States  2021  ...   NVIDIA A100 SXM4 40 GB                64   \n",
       "\n",
       "   Processor Generation            System Model       System Family  \\\n",
       "0         Fujitsu A64FX    Supercomputer Fugaku     Fujitsu Cluster   \n",
       "1            IBM POWER9  IBM Power System AC922   IBM Power Systems   \n",
       "2            IBM POWER9  IBM Power System AC922   IBM Power Systems   \n",
       "3                Sunway              Sunway MPP      Sunway Cluster   \n",
       "4             AMD Milan         HPE Cray EX235n         HPE Cray EX   \n",
       "\n",
       "   Interconnect Family                       Interconnect      Continent  \\\n",
       "0  Proprietary Network                Tofu interconnect D           Asia   \n",
       "1           Infiniband  Dual-rail Mellanox EDR Infiniband  North America   \n",
       "2           Infiniband  Dual-rail Mellanox EDR Infiniband  North America   \n",
       "3  Custom Interconnect                             Sunway           Asia   \n",
       "4     Gigabit Ethernet                       Slingshot-10  North America   \n",
       "\n",
       "   Site ID System ID  \n",
       "0    50831    179807  \n",
       "1    48553    179397  \n",
       "2    49763    179398  \n",
       "3    50623    178764  \n",
       "4    48429    179972  \n",
       "\n",
       "[5 rows x 38 columns]"
      ]
     },
     "execution_count": 11,
     "metadata": {},
     "output_type": "execute_result"
    }
   ],
   "source": [
    "data = pd.read_excel('data/top_list.xlsx')\n",
    "print(data.shape)\n",
    "data.head()"
   ]
  },
  {
   "cell_type": "code",
   "execution_count": 12,
   "metadata": {},
   "outputs": [
    {
     "data": {
      "text/plain": [
       "(61.36, 29899.23, 1900.5513812154695)"
      ]
     },
     "execution_count": 12,
     "metadata": {},
     "output_type": "execute_result"
    }
   ],
   "source": [
    "data['Power (kW)'].min(), data['Power (kW)'].max(), data['Power (kW)'].mean()"
   ]
  },
  {
   "cell_type": "markdown",
   "metadata": {},
   "source": [
    "Данные по производству электричества по всем странам в мире в динамике\n",
    "https://ourworldindata.org/energy-production-consumption"
   ]
  },
  {
   "cell_type": "code",
   "execution_count": 13,
   "metadata": {},
   "outputs": [
    {
     "name": "stdout",
     "output_type": "stream",
     "text": [
      "(6241, 4)\n",
      "Entity                           object\n",
      "Code                             object\n",
      "Year                              int64\n",
      "Electricity Generation (TWh)    float64\n",
      "dtype: object\n"
     ]
    },
    {
     "data": {
      "text/html": [
       "<div>\n",
       "<style scoped>\n",
       "    .dataframe tbody tr th:only-of-type {\n",
       "        vertical-align: middle;\n",
       "    }\n",
       "\n",
       "    .dataframe tbody tr th {\n",
       "        vertical-align: top;\n",
       "    }\n",
       "\n",
       "    .dataframe thead th {\n",
       "        text-align: right;\n",
       "    }\n",
       "</style>\n",
       "<table border=\"1\" class=\"dataframe\">\n",
       "  <thead>\n",
       "    <tr style=\"text-align: right;\">\n",
       "      <th></th>\n",
       "      <th>Entity</th>\n",
       "      <th>Code</th>\n",
       "      <th>Year</th>\n",
       "      <th>Electricity Generation (TWh)</th>\n",
       "    </tr>\n",
       "  </thead>\n",
       "  <tbody>\n",
       "    <tr>\n",
       "      <th>0</th>\n",
       "      <td>Afghanistan</td>\n",
       "      <td>AFG</td>\n",
       "      <td>2000</td>\n",
       "      <td>0.467</td>\n",
       "    </tr>\n",
       "    <tr>\n",
       "      <th>1</th>\n",
       "      <td>Afghanistan</td>\n",
       "      <td>AFG</td>\n",
       "      <td>2001</td>\n",
       "      <td>0.592</td>\n",
       "    </tr>\n",
       "    <tr>\n",
       "      <th>2</th>\n",
       "      <td>Afghanistan</td>\n",
       "      <td>AFG</td>\n",
       "      <td>2002</td>\n",
       "      <td>0.687</td>\n",
       "    </tr>\n",
       "    <tr>\n",
       "      <th>3</th>\n",
       "      <td>Afghanistan</td>\n",
       "      <td>AFG</td>\n",
       "      <td>2003</td>\n",
       "      <td>0.939</td>\n",
       "    </tr>\n",
       "    <tr>\n",
       "      <th>4</th>\n",
       "      <td>Afghanistan</td>\n",
       "      <td>AFG</td>\n",
       "      <td>2004</td>\n",
       "      <td>0.894</td>\n",
       "    </tr>\n",
       "  </tbody>\n",
       "</table>\n",
       "</div>"
      ],
      "text/plain": [
       "        Entity Code  Year  Electricity Generation (TWh)\n",
       "0  Afghanistan  AFG  2000                         0.467\n",
       "1  Afghanistan  AFG  2001                         0.592\n",
       "2  Afghanistan  AFG  2002                         0.687\n",
       "3  Afghanistan  AFG  2003                         0.939\n",
       "4  Afghanistan  AFG  2004                         0.894"
      ]
     },
     "execution_count": 13,
     "metadata": {},
     "output_type": "execute_result"
    }
   ],
   "source": [
    "elec_gen = pd.read_csv('data/electricity-generation.csv')\n",
    "print(elec_gen.shape)\n",
    "print(elec_gen.dtypes)\n",
    "elec_gen.head()"
   ]
  },
  {
   "cell_type": "markdown",
   "metadata": {},
   "source": [
    "Выделим совокупное электричество за 2020 год по всем странам"
   ]
  },
  {
   "cell_type": "code",
   "execution_count": 14,
   "metadata": {},
   "outputs": [
    {
     "data": {
      "text/plain": [
       "55042.0"
      ]
     },
     "execution_count": 14,
     "metadata": {},
     "output_type": "execute_result"
    }
   ],
   "source": [
    "electricity_generation_2020 = round(elec_gen[elec_gen['Year'] == 2020]['Electricity Generation (TWh)'].sum(), 0)\n",
    "electricity_generation_2020"
   ]
  },
  {
   "cell_type": "markdown",
   "metadata": {},
   "source": [
    "т.е. всего 55042 ТерраВатт в час или 55042 * 10ˆ9 КилоВатт в час"
   ]
  },
  {
   "cell_type": "markdown",
   "metadata": {},
   "source": [
    "Выделим совокупную энергию за 2020 год по всем странам"
   ]
  },
  {
   "cell_type": "code",
   "execution_count": 15,
   "metadata": {},
   "outputs": [
    {
     "data": {
      "text/plain": [
       "344000.0"
      ]
     },
     "execution_count": 15,
     "metadata": {},
     "output_type": "execute_result"
    }
   ],
   "source": [
    "super_computer_generation = round(data['Power (kW)'].sum(), 0)\n",
    "super_computer_generation"
   ]
  },
  {
   "cell_type": "markdown",
   "metadata": {},
   "source": [
    "т.е. всего 344000 КилоВатт в час"
   ]
  },
  {
   "cell_type": "code",
   "execution_count": 16,
   "metadata": {},
   "outputs": [
    {
     "name": "stdout",
     "output_type": "stream",
     "text": [
      "Доля потребляемо электроэнергии суперкомпьютерами - 6e-09\n"
     ]
    }
   ],
   "source": [
    "print('Доля потребляемо электроэнергии суперкомпьютерами -', round(344000 / 55042e+09, 9))"
   ]
  },
  {
   "cell_type": "code",
   "execution_count": null,
   "metadata": {},
   "outputs": [],
   "source": []
  }
 ],
 "metadata": {
  "kernelspec": {
   "display_name": "Python 3",
   "language": "python",
   "name": "python3"
  },
  "language_info": {
   "codemirror_mode": {
    "name": "ipython",
    "version": 3
   },
   "file_extension": ".py",
   "mimetype": "text/x-python",
   "name": "python",
   "nbconvert_exporter": "python",
   "pygments_lexer": "ipython3",
   "version": "3.8.3"
  }
 },
 "nbformat": 4,
 "nbformat_minor": 4
}
