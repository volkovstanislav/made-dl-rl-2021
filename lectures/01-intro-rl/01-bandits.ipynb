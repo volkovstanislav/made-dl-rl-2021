{
 "cells": [
  {
   "cell_type": "code",
   "execution_count": null,
   "metadata": {},
   "outputs": [],
   "source": [
    "import matplotlib as mpl\n",
    "import matplotlib.pyplot as plt\n",
    "import seaborn as sns\n",
    "import json\n",
    "import numpy as np\n",
    "import scipy as sp\n",
    "import scipy.stats as st\n",
    "import scipy.integrate as integrate\n",
    "from scipy.stats import multivariate_normal\n",
    "from sklearn import linear_model\n",
    "from sklearn.utils.testing import ignore_warnings\n",
    "from sklearn.exceptions import ConvergenceWarning\n",
    "import statsmodels.api as sm\n",
    "from matplotlib.colors import LogNorm\n",
    "\n",
    "sns.set_style(\"whitegrid\")\n",
    "sns.set_palette(\"colorblind\")\n",
    "palette = sns.color_palette()\n",
    "figsize = (15,8)\n",
    "legend_fontsize = 16\n",
    "\n",
    "output_directory = \"/home/snikolenko/Dropbox/MLBook/pdf/\"\n",
    "\n",
    "from matplotlib import rc\n",
    "rc('font',**{'family':'sans-serif'})\n",
    "rc('text', usetex=True)\n",
    "rc('text.latex',preamble=r'\\usepackage[utf8]{inputenc}')\n",
    "rc('text.latex',preamble=r'\\usepackage[russian]{babel}')\n",
    "rc('figure', **{'dpi': 300})"
   ]
  },
  {
   "cell_type": "markdown",
   "metadata": {},
   "source": [
    "## Многорукие бандиты"
   ]
  },
  {
   "cell_type": "code",
   "execution_count": null,
   "metadata": {},
   "outputs": [],
   "source": [
    "def pull(i, p_bandits):\n",
    "    return 1 if np.random.rand() < p_bandits[i] else 0\n",
    "\n",
    "def pull_np(i_array, p_bandits):\n",
    "    return np.array(np.random.rand(len(i_array)) < p_bandits[np.array(i_array)], dtype=int)\n",
    "\n",
    "def pull_gauss(i, p_bandits, variance=1):\n",
    "    return np.random.normal(p_bandits[i], variance)\n",
    "\n",
    "def pull_gauss_np(i_array, p_bandits, variance=1):\n",
    "    return np.array([ np.random.normal(p_bandits[i], variance) for i in i_array ])"
   ]
  },
  {
   "cell_type": "code",
   "execution_count": null,
   "metadata": {},
   "outputs": [],
   "source": [
    "class Bandit(object):\n",
    "    \n",
    "    def __init__(self, num, label):\n",
    "        self.num = num\n",
    "        self.n = np.array([0 for _ in range(self.num)])\n",
    "        self.w = np.array([0.0 for _ in range(self.num)])\n",
    "        self.hist = []\n",
    "        self.choose_arm = lambda : np.random.randint(self.num)\n",
    "        self.label = label\n",
    "        pass\n",
    "    \n",
    "    def add_result(self, arm, res):\n",
    "        self.hist.append((arm, res))\n",
    "        self.n[arm] += 1\n",
    "        self.w[arm] += res\n",
    "    \n",
    "    def internal_next_arm(self):\n",
    "        return np.random.randint(self.num)\n",
    "    \n",
    "    def next_arm(self):\n",
    "        ## сначала дёрнем за каждую ручку по разу\n",
    "        if len(self.hist) < self.num:\n",
    "            return len(self.hist)\n",
    "        return self.internal_next_arm()\n",
    "    \n",
    "    def run(self, p_bandits, n_steps, pull=pull):\n",
    "        for _ in range(n_steps):\n",
    "            arm = self.next_arm()\n",
    "            res = pull(arm, p_bandits)\n",
    "            self.add_result(arm, res)\n",
    "\n",
    "    def plot_total(self, y, ax, color, label, xmax):\n",
    "        xs = range(1, len(self.hist)+1)\n",
    "        if label is None:\n",
    "            ax.plot(xs, y, color=color, label=self.label)\n",
    "        else:\n",
    "            ax.plot(xs, y, color=color, label=label)\n",
    "        if xmax > 0:\n",
    "            ax.set_xlim((1, xmax))\n",
    "\n",
    "    def plot_history(self, ax, color=\"C1\", label=None, xmax=-1):\n",
    "        total = np.cumsum(np.array([ x[1] for x in self.hist ]))\n",
    "        avg = np.array([ total[i] / (i+1) for i in range(len(total)) ])\n",
    "        self.plot_total(avg, ax, color, label, xmax)\n",
    "\n",
    "    def plot_optimal_action(self, ax, opt_arm, color=\"C1\", label=None, xmax=-1):\n",
    "        total = np.cumsum(np.array([ x[0] == opt_arm for x in self.hist ], dtype=int))\n",
    "        avg = np.array([ total[i] / (i+1) for i in range(len(total)) ])\n",
    "        self.plot_total(avg, ax, color, label, xmax)\n"
   ]
  },
  {
   "cell_type": "code",
   "execution_count": null,
   "metadata": {},
   "outputs": [],
   "source": [
    "def run_bandits(bandits, p_bandits, pull=pull_np, n_step=1000):\n",
    "    for _ in range(n_step):\n",
    "        arms = [ b.next_arm() for b in bandits ]\n",
    "        results = pull(arms, p_bandits)\n",
    "        [ b.add_result(arm, res) for arm,res,b in zip(arms, results, bandits) ]"
   ]
  },
  {
   "cell_type": "code",
   "execution_count": null,
   "metadata": {},
   "outputs": [],
   "source": [
    "def plot_multiple_bandits(bandits, opt_arm, loc=\"upper right\", figsize=(12, 8)):\n",
    "    fig, ax = plt.subplots(1, 2, figsize=figsize)\n",
    "    _ = [ b.plot_history(ax[0], \"C%d\" % i, xmax=n_steps) for i,b in enumerate(bandits) ]\n",
    "    _ = [ b.plot_optimal_action(ax[1], opt_arm, \"C%d\" % i, xmax=n_steps) for i,b in enumerate(bandits) ]\n",
    "    ax[0].set_title(\"Средний выигрыш\")\n",
    "    ax[1].set_title(\"Средняя доля оптимальных выборов\")\n",
    "    for a in ax:\n",
    "        a.set_xlim((0, n_steps))\n",
    "        a.legend(loc=loc)\n",
    "    return fig, ax\n",
    "\n",
    "def plot_average_over_bandits(bandits, opt_arm, loc=\"upper right\", figsize=(12, 8)):\n",
    "    fig, axs = plt.subplots(1, 2, figsize=figsize)\n",
    "    axs = axs.flat\n",
    "    n_steps=len(bandits[0][0].hist)\n",
    "    for i,bs in enumerate(bandits):\n",
    "        total = np.cumsum(np.array([[ x[1] for x in b.hist ] for b in bs]), axis=1)\n",
    "        total_arm = np.cumsum(np.array([[ x[0] == opt_arm for x in b.hist ] for b in bs], dtype=int), axis=1)\n",
    "        avg = np.true_divide( total,  np.array([i+1 for i in range(len(bs[0].hist)) ])).mean(axis=0)\n",
    "        avg_arm = np.true_divide( total_arm, np.array([i+1 for i in range(len(bs[0].hist)) ])).mean(axis=0)\n",
    "        bs[0].plot_total(avg, axs[0], \"C%d\" % i, bs[0].label, xmax=n_steps)\n",
    "        bs[0].plot_total(avg_arm, axs[1], \"C%d\" % i, bs[0].label, xmax=n_steps)\n",
    "    axs[0].set_title(\"Средний выигрыш\")\n",
    "    axs[1].set_title(\"Средняя доля оптимальных выборов\")\n",
    "    for ax in axs:\n",
    "        ax.set_xlim((0, n_steps))\n",
    "        ax.legend(loc=loc)\n",
    "    return fig, axs"
   ]
  },
  {
   "cell_type": "code",
   "execution_count": null,
   "metadata": {},
   "outputs": [],
   "source": [
    "n_bandits = 3\n",
    "p_bandits = np.array([0.3, 0.55, 0.65])\n",
    "m_bandits = np.array([0.5, 1., 1.5])\n",
    "n_steps = 2000\n",
    "\n",
    "bandits = [Bandit(n_bandits, \"Случайная стратегия\"), Bandit(n_bandits, \"Случайная стратегия\"), Bandit(n_bandits, \"Случайная стратегия\")]\n",
    "run_bandits(bandits, p_bandits, n_step=n_steps)\n",
    "# run_bandits(bandits, m_bandits, pull=pull_gauss_np, n_step=n_steps)\n",
    "\n",
    "fig, ax = plot_multiple_bandits(bandits, 2, figsize=(8, 5))\n",
    "ax[0].set_ylim((0.4, 0.7))\n",
    "ax[1].set_ylim((0.2, 0.6))\n",
    "# fig.savefig(output_directory + 'rl_bandits1.pdf', bbox_inches='tight')"
   ]
  },
  {
   "cell_type": "code",
   "execution_count": null,
   "metadata": {},
   "outputs": [],
   "source": [
    "p_bandits = np.array([0.3, 0.55, 0.65])\n",
    "n_bandits = len(p_bandits)\n",
    "n_steps = 1000\n",
    "bandits = [ Bandit(n_bandits, \"Случайная стратегия\") for _ in range(200) ]\n",
    "run_bandits(bandits, p_bandits, n_step=2000)\n",
    "fig, ax = plot_average_over_bandits([bandits], 2, figsize=(8, 6))\n",
    "ax[0].set_ylim((0.4, 0.6))\n",
    "ax[1].set_ylim((0.25, 0.45))"
   ]
  },
  {
   "cell_type": "code",
   "execution_count": null,
   "metadata": {},
   "outputs": [],
   "source": [
    "class GreedyBandit(Bandit):\n",
    "    def internal_next_arm(self):\n",
    "        return np.argmax( np.true_divide( self.w, self.n ) )"
   ]
  },
  {
   "cell_type": "code",
   "execution_count": null,
   "metadata": {},
   "outputs": [],
   "source": [
    "p_bandits = np.array([0.3, 0.55, 0.65])\n",
    "n_bandits = len(p_bandits)\n",
    "n_steps = 1000\n",
    "\n",
    "bandits = [GreedyBandit(n_bandits, \"Жадная стратегия\"), GreedyBandit(n_bandits, \"Жадная стратегия\"), GreedyBandit(n_bandits, \"Жадная стратегия\")]\n",
    "run_bandits(bandits, p_bandits, n_step=n_steps)\n",
    "\n",
    "fig, ax = plot_multiple_bandits(bandits, 2, figsize=(8, 6))\n",
    "ax[0].set_ylim((0.2, 0.7))\n",
    "ax[1].set_ylim((0, 1))\n",
    "ax[0].legend(loc=\"center right\")\n",
    "ax[1].legend(loc=\"center right\")\n",
    "# fig.savefig(output_directory + 'rl_bandits2.pdf', bbox_inches='tight')"
   ]
  },
  {
   "cell_type": "code",
   "execution_count": null,
   "metadata": {},
   "outputs": [],
   "source": [
    "bandits[0].n"
   ]
  },
  {
   "cell_type": "code",
   "execution_count": null,
   "metadata": {},
   "outputs": [],
   "source": [
    "m_bandits = np.array([0.5, 1., 1.5])\n",
    "n_bandits = len(m_bandits)\n",
    "n_steps =  2000\n",
    "\n",
    "bandits = [GreedyBandit(n_bandits, \"Greedy 1\"), GreedyBandit(n_bandits, \"Greedy 2\"), GreedyBandit(n_bandits, \"Greedy 3\")]\n",
    "run_bandits(bandits, m_bandits, pull=pull_gauss_np, n_step=n_steps)\n",
    "\n",
    "fig, ax = plot_multiple_bandits(bandits, 2)"
   ]
  },
  {
   "cell_type": "code",
   "execution_count": null,
   "metadata": {},
   "outputs": [],
   "source": [
    "p_bandits = np.array([0.3, 0.55, 0.65])\n",
    "n_bandits = len(p_bandits)\n",
    "n_steps = 1000\n",
    "\n",
    "n_random, n_greedy = 100, 100\n",
    "\n",
    "bandits = [ Bandit(n_bandits, \"Random\") for _ in range(n_random) ] + [ GreedyBandit(n_bandits, \"Greedy\") for _ in range(n_greedy) ]\n",
    "run_bandits(bandits, p_bandits, n_step=2000)\n",
    "fig, axs = plot_average_over_bandits([bandits[:n_random], bandits[n_random:n_random+n_greedy]], 2)"
   ]
  },
  {
   "cell_type": "code",
   "execution_count": null,
   "metadata": {},
   "outputs": [],
   "source": [
    "class EpsGreedyBandit(Bandit):\n",
    "    def __init__(self, num, label, eps=0.1):\n",
    "        super().__init__(num, label)\n",
    "        self.eps = eps\n",
    "\n",
    "    def internal_next_arm(self):\n",
    "        if np.random.rand() > self.eps:\n",
    "            return np.argmax( np.true_divide( self.w, self.n ) )\n",
    "        else:\n",
    "            return np.random.randint(self.num)"
   ]
  },
  {
   "cell_type": "code",
   "execution_count": null,
   "metadata": {},
   "outputs": [],
   "source": [
    "p_bandits = np.array([0.3, 0.55, 0.65])\n",
    "best_arm = np.argmax(p_bandits)\n",
    "n_bandits = len(p_bandits)\n",
    "n_steps = 15000\n",
    "\n",
    "# bandits = [GreedyBandit(n_bandits, \"Greedy\"), EpsGreedyBandit(n_bandits, \"$\\\\epsilon$-greedy, $\\\\epsilon=0.1$\", 0.1), EpsGreedyBandit(n_bandits, \"$\\\\epsilon$-greedy, $\\\\epsilon=0.01$\", 0.01)]\n",
    "bandits = [EpsGreedyBandit(n_bandits, \"$\\\\epsilon$-жадная стратегия, $\\\\epsilon=0.2$\", 0.2), EpsGreedyBandit(n_bandits, \"$\\\\epsilon$-жадная стратегия, $\\\\epsilon=0.1$\", 0.1), EpsGreedyBandit(n_bandits, \"$\\\\epsilon$-жадная стратегия, $\\\\epsilon=0.05$\", 0.05), EpsGreedyBandit(n_bandits, \"$\\\\epsilon$-жадная стратегия, $\\\\epsilon=0.01$\", 0.01)]\n",
    "run_bandits(bandits, p_bandits, n_step=n_steps)\n",
    "\n",
    "fig, ax = plot_multiple_bandits(bandits, best_arm, figsize=(8, 6))\n",
    "ax[0].set_ylim((0.4, 0.7))\n",
    "ax[1].set_ylim((0, 1))\n",
    "ax[0].legend(loc=\"center right\")\n",
    "ax[1].legend(loc=\"center right\")\n",
    "\n",
    "# fig.savefig(output_directory + 'rl_bandits3.pdf', bbox_inches='tight')"
   ]
  },
  {
   "cell_type": "code",
   "execution_count": null,
   "metadata": {},
   "outputs": [],
   "source": [
    "m_bandits = np.array([0.5, 0.75, 1.0, 1.15])\n",
    "best_arm = np.argmax(m_bandits)\n",
    "n_bandits = len(m_bandits)\n",
    "n_steps = 5000\n",
    "\n",
    "bandits = [GreedyBandit(n_bandits, \"Greedy\"), EpsGreedyBandit(n_bandits, \"$\\\\epsilon$-greedy, $\\\\epsilon=0.1$\", 0.1), EpsGreedyBandit(n_bandits, \"$\\\\epsilon$-greedy, $\\\\epsilon=0.01$\", 0.01)]\n",
    "run_bandits(bandits, m_bandits, pull=pull_gauss_np, n_step=n_steps)\n",
    "\n",
    "fig, ax = plot_multiple_bandits(bandits, best_arm, figsize=(8,6))\n",
    "ax[0].legend(loc=\"center right\")\n",
    "ax[1].legend(loc=\"center right\")"
   ]
  },
  {
   "cell_type": "code",
   "execution_count": null,
   "metadata": {},
   "outputs": [],
   "source": [
    "p_bandits = np.array([0.3, 0.5, 0.6, 0.55])\n",
    "n_bandits = len(p_bandits)\n",
    "best_arm = np.argmax(p_bandits)\n",
    "\n",
    "n_random, n_greedy, n_epsgreedy, n_epsgreedy2 = 100, 100, 100, 100\n",
    "\n",
    "bandits = [ Bandit(4, \"Random\") for _ in range(n_random) ] + \\\n",
    "          [ GreedyBandit(4, \"Greedy\") for _ in range(n_greedy) ] + \\\n",
    "          [ EpsGreedyBandit(4, \"$\\\\epsilon$-greedy, $\\\\epsilon=0.1$\") for _ in range(n_epsgreedy) ] + \\\n",
    "          [ EpsGreedyBandit(4, \"$\\\\epsilon$-greedy, $\\\\epsilon=0.01$\") for _ in range(n_epsgreedy2) ]\n",
    "\n",
    "run_bandits(bandits, p_bandits, n_step=5000)\n",
    "fig, axs = plot_average_over_bandits([\n",
    "    bandits[:n_random],\n",
    "    bandits[n_random:n_random+n_greedy],\n",
    "    bandits[n_random+n_greedy:n_random+n_greedy+n_epsgreedy],\n",
    "    bandits[n_random+n_greedy+n_epsgreedy:n_random+n_greedy+n_epsgreedy+n_epsgreedy2]\n",
    "], best_arm, loc=\"lower right\")"
   ]
  },
  {
   "cell_type": "code",
   "execution_count": null,
   "metadata": {},
   "outputs": [],
   "source": [
    "m_bandits = np.array([0.5, 0.75, 1.0, 1.2])\n",
    "n_bandits = len(m_bandits)\n",
    "best_arm = np.argmax(m_bandits)\n",
    "\n",
    "n_random, n_greedy, n_epsgreedy, n_epsgreedy2 = 100, 100, 100, 100\n",
    "\n",
    "bandits = [ Bandit(4, \"Random\") for _ in range(n_random) ] + \\\n",
    "          [ GreedyBandit(4, \"Greedy\") for _ in range(n_greedy) ] + \\\n",
    "          [ EpsGreedyBandit(4, \"$\\\\epsilon$-greedy, $\\\\epsilon=0.1$\") for _ in range(n_epsgreedy) ] + \\\n",
    "          [ EpsGreedyBandit(4, \"$\\\\epsilon$-greedy, $\\\\epsilon=0.01$\") for _ in range(n_epsgreedy2) ]\n",
    "\n",
    "run_bandits(bandits, m_bandits, pull=pull_gauss_np, n_step=5000)\n",
    "fig, axs = plot_average_over_bandits([\n",
    "    bandits[:n_random],\n",
    "    bandits[n_random:n_random+n_greedy],\n",
    "    bandits[n_random+n_greedy:n_random+n_greedy+n_epsgreedy],\n",
    "    bandits[n_random+n_greedy+n_epsgreedy:n_random+n_greedy+n_epsgreedy+n_epsgreedy2]\n",
    "], best_arm, loc=\"lower right\")"
   ]
  },
  {
   "cell_type": "code",
   "execution_count": null,
   "metadata": {},
   "outputs": [],
   "source": [
    "class UCB1Bandit(Bandit):\n",
    "    def __init__(self, num, label, c=np.sqrt(2)):\n",
    "        super().__init__(num, label)\n",
    "        self.c = c\n",
    "\n",
    "    def internal_next_arm(self):\n",
    "        return np.argmax( np.true_divide( self.w, self.n ) + self.c * np.sqrt(np.array(np.log(len(self.hist)) / self.n)) )"
   ]
  },
  {
   "cell_type": "code",
   "execution_count": null,
   "metadata": {
    "scrolled": false
   },
   "outputs": [],
   "source": [
    "p_bandits = np.random.beta(1, 1, size=10)\n",
    "best_arm = np.argmax(p_bandits)\n",
    "n_bandits = len(p_bandits)\n",
    "\n",
    "p_bandits = np.array([0.3, 0.6, 0.55])\n",
    "n_bandits = len(p_bandits)\n",
    "best_arm = np.argmax(p_bandits)\n",
    "n_steps = 5000\n",
    "\n",
    "print(\"Вероятности успеха: %s\" % p_bandits)\n",
    "\n",
    "bandits = [EpsGreedyBandit(n_bandits, \"$\\\\epsilon$-greedy, $\\\\epsilon=0.1$\", 0.1), EpsGreedyBandit(n_bandits, \"$\\\\epsilon$-greedy, $\\\\epsilon=0.05$\", 0.05), UCB1Bandit(n_bandits, \"UCB1, $c=\\\\sqrt{2}$\")]\n",
    "run_bandits(bandits, p_bandits, n_step=n_steps)\n",
    "\n",
    "fig, ax = plot_multiple_bandits(bandits, best_arm, loc=\"center right\")"
   ]
  },
  {
   "cell_type": "code",
   "execution_count": null,
   "metadata": {},
   "outputs": [],
   "source": [
    "bandits[2].n"
   ]
  },
  {
   "cell_type": "code",
   "execution_count": null,
   "metadata": {},
   "outputs": [],
   "source": [
    "p_bandits = np.array([0.3, 0.4, 0.5, 0.6])\n",
    "n_bandits = len(p_bandits)\n",
    "best_arm = np.argmax(p_bandits)\n",
    "\n",
    "n1, n2, n3, n4 = 20, 20, 20, 20\n",
    "\n",
    "bandits = [ GreedyBandit(4, \"Greedy\") for _ in range(n1) ] + \\\n",
    "          [ EpsGreedyBandit(4, \"$\\\\epsilon$-greedy, $\\\\epsilon=0.1$\") for _ in range(n2) ] + \\\n",
    "          [ EpsGreedyBandit(4, \"$\\\\epsilon$-greedy, $\\\\epsilon=0.01$\") for _ in range(n3) ] + \\\n",
    "          [ UCB1Bandit(4, \"UCB1\") for _ in range(n4) ]\n",
    "\n",
    "run_bandits(bandits, p_bandits, n_step=5000)\n",
    "fig, axs = plot_average_over_bandits([\n",
    "    bandits[:n1],\n",
    "    bandits[n1:n1+n2],\n",
    "    bandits[n1+n2:n1+n2+n3],\n",
    "    bandits[n1+n2+n3:n1+n2+n3+n4]\n",
    "], best_arm, loc=\"lower right\")"
   ]
  },
  {
   "cell_type": "code",
   "execution_count": null,
   "metadata": {},
   "outputs": [],
   "source": [
    "p_bandits = np.array([0.3, 0.4, 0.58, 0.6])\n",
    "n_bandits = len(p_bandits)\n",
    "best_arm = np.argmax(p_bandits)\n",
    "\n",
    "n1, n2, n3, n4 = 100, 100, 100, 100\n",
    "\n",
    "bandits = [ EpsGreedyBandit(n_bandits, \"$\\\\epsilon$-greedy, $\\\\epsilon=0.1$\") for _ in range(n1) ] + \\\n",
    "          [ EpsGreedyBandit(n_bandits, \"$\\\\epsilon$-greedy, $\\\\epsilon=0.01$\") for _ in range(n2) ] + \\\n",
    "          [ UCB1Bandit(n_bandits, \"UCB1, $c=1.0$\", c=1.0) for _ in range(n3) ] + \\\n",
    "          [ UCB1Bandit(n_bandits, \"UCB1, $c=0.5$\", c=0.5) for _ in range(n4) ]\n",
    "\n",
    "run_bandits(bandits, p_bandits, n_step=2000)\n",
    "fig, axs = plot_average_over_bandits([\n",
    "    bandits[:n1],\n",
    "    bandits[n1:n1+n2],\n",
    "    bandits[n1+n2:n1+n2+n3],\n",
    "    bandits[n1+n2+n3:n1+n2+n3+n4]\n",
    "], best_arm, loc=\"lower right\")"
   ]
  },
  {
   "cell_type": "code",
   "execution_count": null,
   "metadata": {},
   "outputs": [],
   "source": [
    "m_bandits = np.random.normal(loc=1.0, scale=1.0, size=10)\n",
    "print(\"Средние ручек:\\n%s\" % m_bandits)\n",
    "# np.array([0.5, 0.75, 1.0, 1.1])\n",
    "n_bandits = len(m_bandits)\n",
    "best_arm = np.argmax(m_bandits)\n",
    "\n",
    "n1, n2, n3, n4 = 20, 20, 20, 20\n",
    "\n",
    "bandits = [ EpsGreedyBandit(n_bandits, \"$\\\\epsilon$-greedy, $\\\\epsilon=0.1$\") for _ in range(n1) ] + \\\n",
    "          [ EpsGreedyBandit(n_bandits, \"$\\\\epsilon$-greedy, $\\\\epsilon=0.01$\") for _ in range(n2) ] + \\\n",
    "          [ UCB1Bandit(n_bandits, \"UCB1, $c=2.0$\", c=2.0) for _ in range(n3) ] + \\\n",
    "          [ UCB1Bandit(n_bandits, \"UCB1, $c=0.5$\", c=0.5) for _ in range(n4) ]\n",
    "\n",
    "run_bandits(bandits, m_bandits, pull=pull_gauss_np, n_step=2000)\n",
    "fig, axs = plot_average_over_bandits([\n",
    "    bandits[:n1],\n",
    "    bandits[n1:n1+n2],\n",
    "    bandits[n1+n2:n1+n2+n3],\n",
    "    bandits[n1+n2+n3:n1+n2+n3+n4]\n",
    "], best_arm, loc=\"lower right\")"
   ]
  },
  {
   "cell_type": "code",
   "execution_count": null,
   "metadata": {},
   "outputs": [],
   "source": [
    "bandits[0].w"
   ]
  },
  {
   "cell_type": "markdown",
   "metadata": {},
   "source": [
    "## Thompson sampling"
   ]
  },
  {
   "cell_type": "code",
   "execution_count": null,
   "metadata": {},
   "outputs": [],
   "source": [
    "n_bandits = 3\n",
    "p_bandits = [0.3, 0.55, 0.65]\n",
    "\n",
    "\n",
    "plots = [1, 2, 5, 10, 25, 50, 100, 200, 500, 5000]\n",
    "\n",
    "def plot_distributions(priors, step, ax, trials, wins):\n",
    "    xs = np.linspace(0.001, .999, 100)\n",
    "    for i, prior in enumerate(priors):\n",
    "        y = prior.pdf(xs)\n",
    "        p = ax.plot(xs, y, label=\"%d: %.4f %d/%d\" % (i+1, prior.mean(), wins[i], trials[i]))\n",
    "        ax.fill_between(xs, y, 0, alpha=0.2)\n",
    "    ax.set_xlim([0, 1])\n",
    "    ax.set_ylim(bottom=0)\n",
    "    ax.legend(loc=\"upper left\")\n",
    "    ax.set_title('Распределение на шаге %d' % step)"
   ]
  },
  {
   "cell_type": "code",
   "execution_count": null,
   "metadata": {},
   "outputs": [],
   "source": [
    "fig, axs = plt.subplots(5, 2, figsize=(12, 15))\n",
    "axs = axs.flat\n",
    "\n",
    "trials = [0, 0, 0]\n",
    "wins = [0, 0, 0]\n",
    "\n",
    "n = 5000\n",
    "for step in range(1, n+1):\n",
    "    bandit_priors = [\n",
    "        st.beta(a=1+w, b=1+t-w) for t, w in zip(trials, wins)]\n",
    "    if step in plots:\n",
    "        plot_distributions(bandit_priors, step, next(axs), trials, wins)\n",
    "    theta_samples = [\n",
    "        d.rvs(1) for d in bandit_priors\n",
    "    ]\n",
    "    chosen_bandit = np.argmax(theta_samples)\n",
    "    x = pull(chosen_bandit, p_bandits)\n",
    "    trials[chosen_bandit] += 1\n",
    "    wins[chosen_bandit] += x\n",
    "\n",
    "plt.tight_layout()\n",
    "plt.show()"
   ]
  },
  {
   "cell_type": "code",
   "execution_count": null,
   "metadata": {},
   "outputs": [],
   "source": []
  },
  {
   "cell_type": "code",
   "execution_count": null,
   "metadata": {},
   "outputs": [],
   "source": []
  }
 ],
 "metadata": {
  "kernelspec": {
   "display_name": "Python 3",
   "language": "python",
   "name": "python3"
  },
  "language_info": {
   "codemirror_mode": {
    "name": "ipython",
    "version": 3
   },
   "file_extension": ".py",
   "mimetype": "text/x-python",
   "name": "python",
   "nbconvert_exporter": "python",
   "pygments_lexer": "ipython3",
   "version": "3.8.10"
  }
 },
 "nbformat": 4,
 "nbformat_minor": 4
}
